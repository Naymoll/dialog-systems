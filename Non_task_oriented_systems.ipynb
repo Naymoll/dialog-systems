{
  "nbformat": 4,
  "nbformat_minor": 0,
  "metadata": {
    "colab": {
      "provenance": []
    },
    "kernelspec": {
      "name": "python3",
      "display_name": "Python 3"
    },
    "accelerator": "GPU",
    "gpuClass": "standard",
    "widgets": {
      "application/vnd.jupyter.widget-state+json": {
        "87396f7f4d3d406f8bdbf15a99eeacd3": {
          "model_module": "@jupyter-widgets/controls",
          "model_name": "HBoxModel",
          "model_module_version": "1.5.0",
          "state": {
            "_dom_classes": [],
            "_model_module": "@jupyter-widgets/controls",
            "_model_module_version": "1.5.0",
            "_model_name": "HBoxModel",
            "_view_count": null,
            "_view_module": "@jupyter-widgets/controls",
            "_view_module_version": "1.5.0",
            "_view_name": "HBoxView",
            "box_style": "",
            "children": [
              "IPY_MODEL_a84d4a54cdab4b9e856586d58d254293",
              "IPY_MODEL_d1ff0c9274444c8b9f066b153205000b",
              "IPY_MODEL_70b3509f921b43f88066c9e862d12cb0"
            ],
            "layout": "IPY_MODEL_84f325c2affb40daabbe65e4877db1d7"
          }
        },
        "a84d4a54cdab4b9e856586d58d254293": {
          "model_module": "@jupyter-widgets/controls",
          "model_name": "HTMLModel",
          "model_module_version": "1.5.0",
          "state": {
            "_dom_classes": [],
            "_model_module": "@jupyter-widgets/controls",
            "_model_module_version": "1.5.0",
            "_model_name": "HTMLModel",
            "_view_count": null,
            "_view_module": "@jupyter-widgets/controls",
            "_view_module_version": "1.5.0",
            "_view_name": "HTMLView",
            "description": "",
            "description_tooltip": null,
            "layout": "IPY_MODEL_31e6a69fed5d4ff4a5395f1e4afb0af9",
            "placeholder": "​",
            "style": "IPY_MODEL_f2657dff4fc94def96fbb0893e4bcd8b",
            "value": "Downloading: 100%"
          }
        },
        "d1ff0c9274444c8b9f066b153205000b": {
          "model_module": "@jupyter-widgets/controls",
          "model_name": "FloatProgressModel",
          "model_module_version": "1.5.0",
          "state": {
            "_dom_classes": [],
            "_model_module": "@jupyter-widgets/controls",
            "_model_module_version": "1.5.0",
            "_model_name": "FloatProgressModel",
            "_view_count": null,
            "_view_module": "@jupyter-widgets/controls",
            "_view_module_version": "1.5.0",
            "_view_name": "ProgressView",
            "bar_style": "success",
            "description": "",
            "description_tooltip": null,
            "layout": "IPY_MODEL_ed089ce6829041eca1f7ae89de8f2bb8",
            "max": 24,
            "min": 0,
            "orientation": "horizontal",
            "style": "IPY_MODEL_8972a87048e44203af499bcc0399f525",
            "value": 24
          }
        },
        "70b3509f921b43f88066c9e862d12cb0": {
          "model_module": "@jupyter-widgets/controls",
          "model_name": "HTMLModel",
          "model_module_version": "1.5.0",
          "state": {
            "_dom_classes": [],
            "_model_module": "@jupyter-widgets/controls",
            "_model_module_version": "1.5.0",
            "_model_name": "HTMLModel",
            "_view_count": null,
            "_view_module": "@jupyter-widgets/controls",
            "_view_module_version": "1.5.0",
            "_view_name": "HTMLView",
            "description": "",
            "description_tooltip": null,
            "layout": "IPY_MODEL_b2e9f991f47b438c87eed8cee3a85514",
            "placeholder": "​",
            "style": "IPY_MODEL_67f6bf3d22da4e3aa0983f6f4c3293b2",
            "value": " 24.0/24.0 [00:00&lt;00:00, 223B/s]"
          }
        },
        "84f325c2affb40daabbe65e4877db1d7": {
          "model_module": "@jupyter-widgets/base",
          "model_name": "LayoutModel",
          "model_module_version": "1.2.0",
          "state": {
            "_model_module": "@jupyter-widgets/base",
            "_model_module_version": "1.2.0",
            "_model_name": "LayoutModel",
            "_view_count": null,
            "_view_module": "@jupyter-widgets/base",
            "_view_module_version": "1.2.0",
            "_view_name": "LayoutView",
            "align_content": null,
            "align_items": null,
            "align_self": null,
            "border": null,
            "bottom": null,
            "display": null,
            "flex": null,
            "flex_flow": null,
            "grid_area": null,
            "grid_auto_columns": null,
            "grid_auto_flow": null,
            "grid_auto_rows": null,
            "grid_column": null,
            "grid_gap": null,
            "grid_row": null,
            "grid_template_areas": null,
            "grid_template_columns": null,
            "grid_template_rows": null,
            "height": null,
            "justify_content": null,
            "justify_items": null,
            "left": null,
            "margin": null,
            "max_height": null,
            "max_width": null,
            "min_height": null,
            "min_width": null,
            "object_fit": null,
            "object_position": null,
            "order": null,
            "overflow": null,
            "overflow_x": null,
            "overflow_y": null,
            "padding": null,
            "right": null,
            "top": null,
            "visibility": null,
            "width": null
          }
        },
        "31e6a69fed5d4ff4a5395f1e4afb0af9": {
          "model_module": "@jupyter-widgets/base",
          "model_name": "LayoutModel",
          "model_module_version": "1.2.0",
          "state": {
            "_model_module": "@jupyter-widgets/base",
            "_model_module_version": "1.2.0",
            "_model_name": "LayoutModel",
            "_view_count": null,
            "_view_module": "@jupyter-widgets/base",
            "_view_module_version": "1.2.0",
            "_view_name": "LayoutView",
            "align_content": null,
            "align_items": null,
            "align_self": null,
            "border": null,
            "bottom": null,
            "display": null,
            "flex": null,
            "flex_flow": null,
            "grid_area": null,
            "grid_auto_columns": null,
            "grid_auto_flow": null,
            "grid_auto_rows": null,
            "grid_column": null,
            "grid_gap": null,
            "grid_row": null,
            "grid_template_areas": null,
            "grid_template_columns": null,
            "grid_template_rows": null,
            "height": null,
            "justify_content": null,
            "justify_items": null,
            "left": null,
            "margin": null,
            "max_height": null,
            "max_width": null,
            "min_height": null,
            "min_width": null,
            "object_fit": null,
            "object_position": null,
            "order": null,
            "overflow": null,
            "overflow_x": null,
            "overflow_y": null,
            "padding": null,
            "right": null,
            "top": null,
            "visibility": null,
            "width": null
          }
        },
        "f2657dff4fc94def96fbb0893e4bcd8b": {
          "model_module": "@jupyter-widgets/controls",
          "model_name": "DescriptionStyleModel",
          "model_module_version": "1.5.0",
          "state": {
            "_model_module": "@jupyter-widgets/controls",
            "_model_module_version": "1.5.0",
            "_model_name": "DescriptionStyleModel",
            "_view_count": null,
            "_view_module": "@jupyter-widgets/base",
            "_view_module_version": "1.2.0",
            "_view_name": "StyleView",
            "description_width": ""
          }
        },
        "ed089ce6829041eca1f7ae89de8f2bb8": {
          "model_module": "@jupyter-widgets/base",
          "model_name": "LayoutModel",
          "model_module_version": "1.2.0",
          "state": {
            "_model_module": "@jupyter-widgets/base",
            "_model_module_version": "1.2.0",
            "_model_name": "LayoutModel",
            "_view_count": null,
            "_view_module": "@jupyter-widgets/base",
            "_view_module_version": "1.2.0",
            "_view_name": "LayoutView",
            "align_content": null,
            "align_items": null,
            "align_self": null,
            "border": null,
            "bottom": null,
            "display": null,
            "flex": null,
            "flex_flow": null,
            "grid_area": null,
            "grid_auto_columns": null,
            "grid_auto_flow": null,
            "grid_auto_rows": null,
            "grid_column": null,
            "grid_gap": null,
            "grid_row": null,
            "grid_template_areas": null,
            "grid_template_columns": null,
            "grid_template_rows": null,
            "height": null,
            "justify_content": null,
            "justify_items": null,
            "left": null,
            "margin": null,
            "max_height": null,
            "max_width": null,
            "min_height": null,
            "min_width": null,
            "object_fit": null,
            "object_position": null,
            "order": null,
            "overflow": null,
            "overflow_x": null,
            "overflow_y": null,
            "padding": null,
            "right": null,
            "top": null,
            "visibility": null,
            "width": null
          }
        },
        "8972a87048e44203af499bcc0399f525": {
          "model_module": "@jupyter-widgets/controls",
          "model_name": "ProgressStyleModel",
          "model_module_version": "1.5.0",
          "state": {
            "_model_module": "@jupyter-widgets/controls",
            "_model_module_version": "1.5.0",
            "_model_name": "ProgressStyleModel",
            "_view_count": null,
            "_view_module": "@jupyter-widgets/base",
            "_view_module_version": "1.2.0",
            "_view_name": "StyleView",
            "bar_color": null,
            "description_width": ""
          }
        },
        "b2e9f991f47b438c87eed8cee3a85514": {
          "model_module": "@jupyter-widgets/base",
          "model_name": "LayoutModel",
          "model_module_version": "1.2.0",
          "state": {
            "_model_module": "@jupyter-widgets/base",
            "_model_module_version": "1.2.0",
            "_model_name": "LayoutModel",
            "_view_count": null,
            "_view_module": "@jupyter-widgets/base",
            "_view_module_version": "1.2.0",
            "_view_name": "LayoutView",
            "align_content": null,
            "align_items": null,
            "align_self": null,
            "border": null,
            "bottom": null,
            "display": null,
            "flex": null,
            "flex_flow": null,
            "grid_area": null,
            "grid_auto_columns": null,
            "grid_auto_flow": null,
            "grid_auto_rows": null,
            "grid_column": null,
            "grid_gap": null,
            "grid_row": null,
            "grid_template_areas": null,
            "grid_template_columns": null,
            "grid_template_rows": null,
            "height": null,
            "justify_content": null,
            "justify_items": null,
            "left": null,
            "margin": null,
            "max_height": null,
            "max_width": null,
            "min_height": null,
            "min_width": null,
            "object_fit": null,
            "object_position": null,
            "order": null,
            "overflow": null,
            "overflow_x": null,
            "overflow_y": null,
            "padding": null,
            "right": null,
            "top": null,
            "visibility": null,
            "width": null
          }
        },
        "67f6bf3d22da4e3aa0983f6f4c3293b2": {
          "model_module": "@jupyter-widgets/controls",
          "model_name": "DescriptionStyleModel",
          "model_module_version": "1.5.0",
          "state": {
            "_model_module": "@jupyter-widgets/controls",
            "_model_module_version": "1.5.0",
            "_model_name": "DescriptionStyleModel",
            "_view_count": null,
            "_view_module": "@jupyter-widgets/base",
            "_view_module_version": "1.2.0",
            "_view_name": "StyleView",
            "description_width": ""
          }
        },
        "4be47b3d45e94e2b9569ec973093d680": {
          "model_module": "@jupyter-widgets/controls",
          "model_name": "HBoxModel",
          "model_module_version": "1.5.0",
          "state": {
            "_dom_classes": [],
            "_model_module": "@jupyter-widgets/controls",
            "_model_module_version": "1.5.0",
            "_model_name": "HBoxModel",
            "_view_count": null,
            "_view_module": "@jupyter-widgets/controls",
            "_view_module_version": "1.5.0",
            "_view_name": "HBoxView",
            "box_style": "",
            "children": [
              "IPY_MODEL_fdbd472013b84323a5a637b2ecd3520d",
              "IPY_MODEL_a2733a0526464cbe89c748c060db9cc6",
              "IPY_MODEL_4ed20ea5f5c84138b9778718c3f29ce7"
            ],
            "layout": "IPY_MODEL_04a3fe57ee9f4632a7f1dfea5037e69d"
          }
        },
        "fdbd472013b84323a5a637b2ecd3520d": {
          "model_module": "@jupyter-widgets/controls",
          "model_name": "HTMLModel",
          "model_module_version": "1.5.0",
          "state": {
            "_dom_classes": [],
            "_model_module": "@jupyter-widgets/controls",
            "_model_module_version": "1.5.0",
            "_model_name": "HTMLModel",
            "_view_count": null,
            "_view_module": "@jupyter-widgets/controls",
            "_view_module_version": "1.5.0",
            "_view_name": "HTMLView",
            "description": "",
            "description_tooltip": null,
            "layout": "IPY_MODEL_6b729ee01fa741d09b8b6aaadd1c2b41",
            "placeholder": "​",
            "style": "IPY_MODEL_3855aa86d28f4e12ab67532a65ed1af9",
            "value": "Downloading: 100%"
          }
        },
        "a2733a0526464cbe89c748c060db9cc6": {
          "model_module": "@jupyter-widgets/controls",
          "model_name": "FloatProgressModel",
          "model_module_version": "1.5.0",
          "state": {
            "_dom_classes": [],
            "_model_module": "@jupyter-widgets/controls",
            "_model_module_version": "1.5.0",
            "_model_name": "FloatProgressModel",
            "_view_count": null,
            "_view_module": "@jupyter-widgets/controls",
            "_view_module_version": "1.5.0",
            "_view_name": "ProgressView",
            "bar_style": "success",
            "description": "",
            "description_tooltip": null,
            "layout": "IPY_MODEL_7352e566b6d04957891426274bb67beb",
            "max": 538,
            "min": 0,
            "orientation": "horizontal",
            "style": "IPY_MODEL_649bdcbfddef46c992ae9f619d2660d5",
            "value": 538
          }
        },
        "4ed20ea5f5c84138b9778718c3f29ce7": {
          "model_module": "@jupyter-widgets/controls",
          "model_name": "HTMLModel",
          "model_module_version": "1.5.0",
          "state": {
            "_dom_classes": [],
            "_model_module": "@jupyter-widgets/controls",
            "_model_module_version": "1.5.0",
            "_model_name": "HTMLModel",
            "_view_count": null,
            "_view_module": "@jupyter-widgets/controls",
            "_view_module_version": "1.5.0",
            "_view_name": "HTMLView",
            "description": "",
            "description_tooltip": null,
            "layout": "IPY_MODEL_84305f8edfad4edd96145ab91bf0ca84",
            "placeholder": "​",
            "style": "IPY_MODEL_9a409ab6e31548b9a0674e30420f7d8b",
            "value": " 538/538 [00:00&lt;00:00, 8.89kB/s]"
          }
        },
        "04a3fe57ee9f4632a7f1dfea5037e69d": {
          "model_module": "@jupyter-widgets/base",
          "model_name": "LayoutModel",
          "model_module_version": "1.2.0",
          "state": {
            "_model_module": "@jupyter-widgets/base",
            "_model_module_version": "1.2.0",
            "_model_name": "LayoutModel",
            "_view_count": null,
            "_view_module": "@jupyter-widgets/base",
            "_view_module_version": "1.2.0",
            "_view_name": "LayoutView",
            "align_content": null,
            "align_items": null,
            "align_self": null,
            "border": null,
            "bottom": null,
            "display": null,
            "flex": null,
            "flex_flow": null,
            "grid_area": null,
            "grid_auto_columns": null,
            "grid_auto_flow": null,
            "grid_auto_rows": null,
            "grid_column": null,
            "grid_gap": null,
            "grid_row": null,
            "grid_template_areas": null,
            "grid_template_columns": null,
            "grid_template_rows": null,
            "height": null,
            "justify_content": null,
            "justify_items": null,
            "left": null,
            "margin": null,
            "max_height": null,
            "max_width": null,
            "min_height": null,
            "min_width": null,
            "object_fit": null,
            "object_position": null,
            "order": null,
            "overflow": null,
            "overflow_x": null,
            "overflow_y": null,
            "padding": null,
            "right": null,
            "top": null,
            "visibility": null,
            "width": null
          }
        },
        "6b729ee01fa741d09b8b6aaadd1c2b41": {
          "model_module": "@jupyter-widgets/base",
          "model_name": "LayoutModel",
          "model_module_version": "1.2.0",
          "state": {
            "_model_module": "@jupyter-widgets/base",
            "_model_module_version": "1.2.0",
            "_model_name": "LayoutModel",
            "_view_count": null,
            "_view_module": "@jupyter-widgets/base",
            "_view_module_version": "1.2.0",
            "_view_name": "LayoutView",
            "align_content": null,
            "align_items": null,
            "align_self": null,
            "border": null,
            "bottom": null,
            "display": null,
            "flex": null,
            "flex_flow": null,
            "grid_area": null,
            "grid_auto_columns": null,
            "grid_auto_flow": null,
            "grid_auto_rows": null,
            "grid_column": null,
            "grid_gap": null,
            "grid_row": null,
            "grid_template_areas": null,
            "grid_template_columns": null,
            "grid_template_rows": null,
            "height": null,
            "justify_content": null,
            "justify_items": null,
            "left": null,
            "margin": null,
            "max_height": null,
            "max_width": null,
            "min_height": null,
            "min_width": null,
            "object_fit": null,
            "object_position": null,
            "order": null,
            "overflow": null,
            "overflow_x": null,
            "overflow_y": null,
            "padding": null,
            "right": null,
            "top": null,
            "visibility": null,
            "width": null
          }
        },
        "3855aa86d28f4e12ab67532a65ed1af9": {
          "model_module": "@jupyter-widgets/controls",
          "model_name": "DescriptionStyleModel",
          "model_module_version": "1.5.0",
          "state": {
            "_model_module": "@jupyter-widgets/controls",
            "_model_module_version": "1.5.0",
            "_model_name": "DescriptionStyleModel",
            "_view_count": null,
            "_view_module": "@jupyter-widgets/base",
            "_view_module_version": "1.2.0",
            "_view_name": "StyleView",
            "description_width": ""
          }
        },
        "7352e566b6d04957891426274bb67beb": {
          "model_module": "@jupyter-widgets/base",
          "model_name": "LayoutModel",
          "model_module_version": "1.2.0",
          "state": {
            "_model_module": "@jupyter-widgets/base",
            "_model_module_version": "1.2.0",
            "_model_name": "LayoutModel",
            "_view_count": null,
            "_view_module": "@jupyter-widgets/base",
            "_view_module_version": "1.2.0",
            "_view_name": "LayoutView",
            "align_content": null,
            "align_items": null,
            "align_self": null,
            "border": null,
            "bottom": null,
            "display": null,
            "flex": null,
            "flex_flow": null,
            "grid_area": null,
            "grid_auto_columns": null,
            "grid_auto_flow": null,
            "grid_auto_rows": null,
            "grid_column": null,
            "grid_gap": null,
            "grid_row": null,
            "grid_template_areas": null,
            "grid_template_columns": null,
            "grid_template_rows": null,
            "height": null,
            "justify_content": null,
            "justify_items": null,
            "left": null,
            "margin": null,
            "max_height": null,
            "max_width": null,
            "min_height": null,
            "min_width": null,
            "object_fit": null,
            "object_position": null,
            "order": null,
            "overflow": null,
            "overflow_x": null,
            "overflow_y": null,
            "padding": null,
            "right": null,
            "top": null,
            "visibility": null,
            "width": null
          }
        },
        "649bdcbfddef46c992ae9f619d2660d5": {
          "model_module": "@jupyter-widgets/controls",
          "model_name": "ProgressStyleModel",
          "model_module_version": "1.5.0",
          "state": {
            "_model_module": "@jupyter-widgets/controls",
            "_model_module_version": "1.5.0",
            "_model_name": "ProgressStyleModel",
            "_view_count": null,
            "_view_module": "@jupyter-widgets/base",
            "_view_module_version": "1.2.0",
            "_view_name": "StyleView",
            "bar_color": null,
            "description_width": ""
          }
        },
        "84305f8edfad4edd96145ab91bf0ca84": {
          "model_module": "@jupyter-widgets/base",
          "model_name": "LayoutModel",
          "model_module_version": "1.2.0",
          "state": {
            "_model_module": "@jupyter-widgets/base",
            "_model_module_version": "1.2.0",
            "_model_name": "LayoutModel",
            "_view_count": null,
            "_view_module": "@jupyter-widgets/base",
            "_view_module_version": "1.2.0",
            "_view_name": "LayoutView",
            "align_content": null,
            "align_items": null,
            "align_self": null,
            "border": null,
            "bottom": null,
            "display": null,
            "flex": null,
            "flex_flow": null,
            "grid_area": null,
            "grid_auto_columns": null,
            "grid_auto_flow": null,
            "grid_auto_rows": null,
            "grid_column": null,
            "grid_gap": null,
            "grid_row": null,
            "grid_template_areas": null,
            "grid_template_columns": null,
            "grid_template_rows": null,
            "height": null,
            "justify_content": null,
            "justify_items": null,
            "left": null,
            "margin": null,
            "max_height": null,
            "max_width": null,
            "min_height": null,
            "min_width": null,
            "object_fit": null,
            "object_position": null,
            "order": null,
            "overflow": null,
            "overflow_x": null,
            "overflow_y": null,
            "padding": null,
            "right": null,
            "top": null,
            "visibility": null,
            "width": null
          }
        },
        "9a409ab6e31548b9a0674e30420f7d8b": {
          "model_module": "@jupyter-widgets/controls",
          "model_name": "DescriptionStyleModel",
          "model_module_version": "1.5.0",
          "state": {
            "_model_module": "@jupyter-widgets/controls",
            "_model_module_version": "1.5.0",
            "_model_name": "DescriptionStyleModel",
            "_view_count": null,
            "_view_module": "@jupyter-widgets/base",
            "_view_module_version": "1.2.0",
            "_view_name": "StyleView",
            "description_width": ""
          }
        },
        "1da0a2b40a7c441b8de32484e7bb597b": {
          "model_module": "@jupyter-widgets/controls",
          "model_name": "HBoxModel",
          "model_module_version": "1.5.0",
          "state": {
            "_dom_classes": [],
            "_model_module": "@jupyter-widgets/controls",
            "_model_module_version": "1.5.0",
            "_model_name": "HBoxModel",
            "_view_count": null,
            "_view_module": "@jupyter-widgets/controls",
            "_view_module_version": "1.5.0",
            "_view_name": "HBoxView",
            "box_style": "",
            "children": [
              "IPY_MODEL_0d60be12fd8144f68e7aafbc9372b9b1",
              "IPY_MODEL_3f9547e2306c46cfa010b8fb0adacc7f",
              "IPY_MODEL_6a30cbd1fb5844cfa8291754aa2042a7"
            ],
            "layout": "IPY_MODEL_595fe5168e164a82a856ef554dfc5f75"
          }
        },
        "0d60be12fd8144f68e7aafbc9372b9b1": {
          "model_module": "@jupyter-widgets/controls",
          "model_name": "HTMLModel",
          "model_module_version": "1.5.0",
          "state": {
            "_dom_classes": [],
            "_model_module": "@jupyter-widgets/controls",
            "_model_module_version": "1.5.0",
            "_model_name": "HTMLModel",
            "_view_count": null,
            "_view_module": "@jupyter-widgets/controls",
            "_view_module_version": "1.5.0",
            "_view_name": "HTMLView",
            "description": "",
            "description_tooltip": null,
            "layout": "IPY_MODEL_ed83d67ddf35408b87736d92a99e84de",
            "placeholder": "​",
            "style": "IPY_MODEL_f5c16d99ec3241beb2787325841f7ecd",
            "value": "Downloading: 100%"
          }
        },
        "3f9547e2306c46cfa010b8fb0adacc7f": {
          "model_module": "@jupyter-widgets/controls",
          "model_name": "FloatProgressModel",
          "model_module_version": "1.5.0",
          "state": {
            "_dom_classes": [],
            "_model_module": "@jupyter-widgets/controls",
            "_model_module_version": "1.5.0",
            "_model_name": "FloatProgressModel",
            "_view_count": null,
            "_view_module": "@jupyter-widgets/controls",
            "_view_module_version": "1.5.0",
            "_view_name": "ProgressView",
            "bar_style": "success",
            "description": "",
            "description_tooltip": null,
            "layout": "IPY_MODEL_920662d9da174f7fa517e52a1d3279a0",
            "max": 1404983,
            "min": 0,
            "orientation": "horizontal",
            "style": "IPY_MODEL_dd80d67571f347e8a38c736543127d01",
            "value": 1404983
          }
        },
        "6a30cbd1fb5844cfa8291754aa2042a7": {
          "model_module": "@jupyter-widgets/controls",
          "model_name": "HTMLModel",
          "model_module_version": "1.5.0",
          "state": {
            "_dom_classes": [],
            "_model_module": "@jupyter-widgets/controls",
            "_model_module_version": "1.5.0",
            "_model_name": "HTMLModel",
            "_view_count": null,
            "_view_module": "@jupyter-widgets/controls",
            "_view_module_version": "1.5.0",
            "_view_name": "HTMLView",
            "description": "",
            "description_tooltip": null,
            "layout": "IPY_MODEL_18dc3e71a6774f6bb55871ce3029e178",
            "placeholder": "​",
            "style": "IPY_MODEL_6120c8dd05dd472ea3aaae47a21a3718",
            "value": " 1.40M/1.40M [00:00&lt;00:00, 2.23MB/s]"
          }
        },
        "595fe5168e164a82a856ef554dfc5f75": {
          "model_module": "@jupyter-widgets/base",
          "model_name": "LayoutModel",
          "model_module_version": "1.2.0",
          "state": {
            "_model_module": "@jupyter-widgets/base",
            "_model_module_version": "1.2.0",
            "_model_name": "LayoutModel",
            "_view_count": null,
            "_view_module": "@jupyter-widgets/base",
            "_view_module_version": "1.2.0",
            "_view_name": "LayoutView",
            "align_content": null,
            "align_items": null,
            "align_self": null,
            "border": null,
            "bottom": null,
            "display": null,
            "flex": null,
            "flex_flow": null,
            "grid_area": null,
            "grid_auto_columns": null,
            "grid_auto_flow": null,
            "grid_auto_rows": null,
            "grid_column": null,
            "grid_gap": null,
            "grid_row": null,
            "grid_template_areas": null,
            "grid_template_columns": null,
            "grid_template_rows": null,
            "height": null,
            "justify_content": null,
            "justify_items": null,
            "left": null,
            "margin": null,
            "max_height": null,
            "max_width": null,
            "min_height": null,
            "min_width": null,
            "object_fit": null,
            "object_position": null,
            "order": null,
            "overflow": null,
            "overflow_x": null,
            "overflow_y": null,
            "padding": null,
            "right": null,
            "top": null,
            "visibility": null,
            "width": null
          }
        },
        "ed83d67ddf35408b87736d92a99e84de": {
          "model_module": "@jupyter-widgets/base",
          "model_name": "LayoutModel",
          "model_module_version": "1.2.0",
          "state": {
            "_model_module": "@jupyter-widgets/base",
            "_model_module_version": "1.2.0",
            "_model_name": "LayoutModel",
            "_view_count": null,
            "_view_module": "@jupyter-widgets/base",
            "_view_module_version": "1.2.0",
            "_view_name": "LayoutView",
            "align_content": null,
            "align_items": null,
            "align_self": null,
            "border": null,
            "bottom": null,
            "display": null,
            "flex": null,
            "flex_flow": null,
            "grid_area": null,
            "grid_auto_columns": null,
            "grid_auto_flow": null,
            "grid_auto_rows": null,
            "grid_column": null,
            "grid_gap": null,
            "grid_row": null,
            "grid_template_areas": null,
            "grid_template_columns": null,
            "grid_template_rows": null,
            "height": null,
            "justify_content": null,
            "justify_items": null,
            "left": null,
            "margin": null,
            "max_height": null,
            "max_width": null,
            "min_height": null,
            "min_width": null,
            "object_fit": null,
            "object_position": null,
            "order": null,
            "overflow": null,
            "overflow_x": null,
            "overflow_y": null,
            "padding": null,
            "right": null,
            "top": null,
            "visibility": null,
            "width": null
          }
        },
        "f5c16d99ec3241beb2787325841f7ecd": {
          "model_module": "@jupyter-widgets/controls",
          "model_name": "DescriptionStyleModel",
          "model_module_version": "1.5.0",
          "state": {
            "_model_module": "@jupyter-widgets/controls",
            "_model_module_version": "1.5.0",
            "_model_name": "DescriptionStyleModel",
            "_view_count": null,
            "_view_module": "@jupyter-widgets/base",
            "_view_module_version": "1.2.0",
            "_view_name": "StyleView",
            "description_width": ""
          }
        },
        "920662d9da174f7fa517e52a1d3279a0": {
          "model_module": "@jupyter-widgets/base",
          "model_name": "LayoutModel",
          "model_module_version": "1.2.0",
          "state": {
            "_model_module": "@jupyter-widgets/base",
            "_model_module_version": "1.2.0",
            "_model_name": "LayoutModel",
            "_view_count": null,
            "_view_module": "@jupyter-widgets/base",
            "_view_module_version": "1.2.0",
            "_view_name": "LayoutView",
            "align_content": null,
            "align_items": null,
            "align_self": null,
            "border": null,
            "bottom": null,
            "display": null,
            "flex": null,
            "flex_flow": null,
            "grid_area": null,
            "grid_auto_columns": null,
            "grid_auto_flow": null,
            "grid_auto_rows": null,
            "grid_column": null,
            "grid_gap": null,
            "grid_row": null,
            "grid_template_areas": null,
            "grid_template_columns": null,
            "grid_template_rows": null,
            "height": null,
            "justify_content": null,
            "justify_items": null,
            "left": null,
            "margin": null,
            "max_height": null,
            "max_width": null,
            "min_height": null,
            "min_width": null,
            "object_fit": null,
            "object_position": null,
            "order": null,
            "overflow": null,
            "overflow_x": null,
            "overflow_y": null,
            "padding": null,
            "right": null,
            "top": null,
            "visibility": null,
            "width": null
          }
        },
        "dd80d67571f347e8a38c736543127d01": {
          "model_module": "@jupyter-widgets/controls",
          "model_name": "ProgressStyleModel",
          "model_module_version": "1.5.0",
          "state": {
            "_model_module": "@jupyter-widgets/controls",
            "_model_module_version": "1.5.0",
            "_model_name": "ProgressStyleModel",
            "_view_count": null,
            "_view_module": "@jupyter-widgets/base",
            "_view_module_version": "1.2.0",
            "_view_name": "StyleView",
            "bar_color": null,
            "description_width": ""
          }
        },
        "18dc3e71a6774f6bb55871ce3029e178": {
          "model_module": "@jupyter-widgets/base",
          "model_name": "LayoutModel",
          "model_module_version": "1.2.0",
          "state": {
            "_model_module": "@jupyter-widgets/base",
            "_model_module_version": "1.2.0",
            "_model_name": "LayoutModel",
            "_view_count": null,
            "_view_module": "@jupyter-widgets/base",
            "_view_module_version": "1.2.0",
            "_view_name": "LayoutView",
            "align_content": null,
            "align_items": null,
            "align_self": null,
            "border": null,
            "bottom": null,
            "display": null,
            "flex": null,
            "flex_flow": null,
            "grid_area": null,
            "grid_auto_columns": null,
            "grid_auto_flow": null,
            "grid_auto_rows": null,
            "grid_column": null,
            "grid_gap": null,
            "grid_row": null,
            "grid_template_areas": null,
            "grid_template_columns": null,
            "grid_template_rows": null,
            "height": null,
            "justify_content": null,
            "justify_items": null,
            "left": null,
            "margin": null,
            "max_height": null,
            "max_width": null,
            "min_height": null,
            "min_width": null,
            "object_fit": null,
            "object_position": null,
            "order": null,
            "overflow": null,
            "overflow_x": null,
            "overflow_y": null,
            "padding": null,
            "right": null,
            "top": null,
            "visibility": null,
            "width": null
          }
        },
        "6120c8dd05dd472ea3aaae47a21a3718": {
          "model_module": "@jupyter-widgets/controls",
          "model_name": "DescriptionStyleModel",
          "model_module_version": "1.5.0",
          "state": {
            "_model_module": "@jupyter-widgets/controls",
            "_model_module_version": "1.5.0",
            "_model_name": "DescriptionStyleModel",
            "_view_count": null,
            "_view_module": "@jupyter-widgets/base",
            "_view_module_version": "1.2.0",
            "_view_name": "StyleView",
            "description_width": ""
          }
        },
        "fce1a3ac6cb44c08bb4e466f3ba2f6dc": {
          "model_module": "@jupyter-widgets/controls",
          "model_name": "HBoxModel",
          "model_module_version": "1.5.0",
          "state": {
            "_dom_classes": [],
            "_model_module": "@jupyter-widgets/controls",
            "_model_module_version": "1.5.0",
            "_model_name": "HBoxModel",
            "_view_count": null,
            "_view_module": "@jupyter-widgets/controls",
            "_view_module_version": "1.5.0",
            "_view_name": "HBoxView",
            "box_style": "",
            "children": [
              "IPY_MODEL_2ee69ef8d32a453dadfabd6c9b3c3c25",
              "IPY_MODEL_ae50c215648c468c84c94c3ea3562ddd",
              "IPY_MODEL_049e4b98a0154d0e8a8d8932635133e2"
            ],
            "layout": "IPY_MODEL_4e40b7b7de5748c088a6f13823ecd0a5"
          }
        },
        "2ee69ef8d32a453dadfabd6c9b3c3c25": {
          "model_module": "@jupyter-widgets/controls",
          "model_name": "HTMLModel",
          "model_module_version": "1.5.0",
          "state": {
            "_dom_classes": [],
            "_model_module": "@jupyter-widgets/controls",
            "_model_module_version": "1.5.0",
            "_model_name": "HTMLModel",
            "_view_count": null,
            "_view_module": "@jupyter-widgets/controls",
            "_view_module_version": "1.5.0",
            "_view_name": "HTMLView",
            "description": "",
            "description_tooltip": null,
            "layout": "IPY_MODEL_38e390d2889842378f67e6ecde33bac8",
            "placeholder": "​",
            "style": "IPY_MODEL_d5461cce4c1a461fa8cf7f00ad9b7883",
            "value": "Downloading: 100%"
          }
        },
        "ae50c215648c468c84c94c3ea3562ddd": {
          "model_module": "@jupyter-widgets/controls",
          "model_name": "FloatProgressModel",
          "model_module_version": "1.5.0",
          "state": {
            "_dom_classes": [],
            "_model_module": "@jupyter-widgets/controls",
            "_model_module_version": "1.5.0",
            "_model_name": "FloatProgressModel",
            "_view_count": null,
            "_view_module": "@jupyter-widgets/controls",
            "_view_module_version": "1.5.0",
            "_view_name": "ProgressView",
            "bar_style": "success",
            "description": "",
            "description_tooltip": null,
            "layout": "IPY_MODEL_39335cc52c394b958ed11cbeb6e343f1",
            "max": 112,
            "min": 0,
            "orientation": "horizontal",
            "style": "IPY_MODEL_97302e9a88534dc3bdd88ee204fa6559",
            "value": 112
          }
        },
        "049e4b98a0154d0e8a8d8932635133e2": {
          "model_module": "@jupyter-widgets/controls",
          "model_name": "HTMLModel",
          "model_module_version": "1.5.0",
          "state": {
            "_dom_classes": [],
            "_model_module": "@jupyter-widgets/controls",
            "_model_module_version": "1.5.0",
            "_model_name": "HTMLModel",
            "_view_count": null,
            "_view_module": "@jupyter-widgets/controls",
            "_view_module_version": "1.5.0",
            "_view_name": "HTMLView",
            "description": "",
            "description_tooltip": null,
            "layout": "IPY_MODEL_aecc6b97f21e479ca15cd07c9f0f960d",
            "placeholder": "​",
            "style": "IPY_MODEL_4fd0e9dbdbd8434386a5357b475994d4",
            "value": " 112/112 [00:00&lt;00:00, 4.03kB/s]"
          }
        },
        "4e40b7b7de5748c088a6f13823ecd0a5": {
          "model_module": "@jupyter-widgets/base",
          "model_name": "LayoutModel",
          "model_module_version": "1.2.0",
          "state": {
            "_model_module": "@jupyter-widgets/base",
            "_model_module_version": "1.2.0",
            "_model_name": "LayoutModel",
            "_view_count": null,
            "_view_module": "@jupyter-widgets/base",
            "_view_module_version": "1.2.0",
            "_view_name": "LayoutView",
            "align_content": null,
            "align_items": null,
            "align_self": null,
            "border": null,
            "bottom": null,
            "display": null,
            "flex": null,
            "flex_flow": null,
            "grid_area": null,
            "grid_auto_columns": null,
            "grid_auto_flow": null,
            "grid_auto_rows": null,
            "grid_column": null,
            "grid_gap": null,
            "grid_row": null,
            "grid_template_areas": null,
            "grid_template_columns": null,
            "grid_template_rows": null,
            "height": null,
            "justify_content": null,
            "justify_items": null,
            "left": null,
            "margin": null,
            "max_height": null,
            "max_width": null,
            "min_height": null,
            "min_width": null,
            "object_fit": null,
            "object_position": null,
            "order": null,
            "overflow": null,
            "overflow_x": null,
            "overflow_y": null,
            "padding": null,
            "right": null,
            "top": null,
            "visibility": null,
            "width": null
          }
        },
        "38e390d2889842378f67e6ecde33bac8": {
          "model_module": "@jupyter-widgets/base",
          "model_name": "LayoutModel",
          "model_module_version": "1.2.0",
          "state": {
            "_model_module": "@jupyter-widgets/base",
            "_model_module_version": "1.2.0",
            "_model_name": "LayoutModel",
            "_view_count": null,
            "_view_module": "@jupyter-widgets/base",
            "_view_module_version": "1.2.0",
            "_view_name": "LayoutView",
            "align_content": null,
            "align_items": null,
            "align_self": null,
            "border": null,
            "bottom": null,
            "display": null,
            "flex": null,
            "flex_flow": null,
            "grid_area": null,
            "grid_auto_columns": null,
            "grid_auto_flow": null,
            "grid_auto_rows": null,
            "grid_column": null,
            "grid_gap": null,
            "grid_row": null,
            "grid_template_areas": null,
            "grid_template_columns": null,
            "grid_template_rows": null,
            "height": null,
            "justify_content": null,
            "justify_items": null,
            "left": null,
            "margin": null,
            "max_height": null,
            "max_width": null,
            "min_height": null,
            "min_width": null,
            "object_fit": null,
            "object_position": null,
            "order": null,
            "overflow": null,
            "overflow_x": null,
            "overflow_y": null,
            "padding": null,
            "right": null,
            "top": null,
            "visibility": null,
            "width": null
          }
        },
        "d5461cce4c1a461fa8cf7f00ad9b7883": {
          "model_module": "@jupyter-widgets/controls",
          "model_name": "DescriptionStyleModel",
          "model_module_version": "1.5.0",
          "state": {
            "_model_module": "@jupyter-widgets/controls",
            "_model_module_version": "1.5.0",
            "_model_name": "DescriptionStyleModel",
            "_view_count": null,
            "_view_module": "@jupyter-widgets/base",
            "_view_module_version": "1.2.0",
            "_view_name": "StyleView",
            "description_width": ""
          }
        },
        "39335cc52c394b958ed11cbeb6e343f1": {
          "model_module": "@jupyter-widgets/base",
          "model_name": "LayoutModel",
          "model_module_version": "1.2.0",
          "state": {
            "_model_module": "@jupyter-widgets/base",
            "_model_module_version": "1.2.0",
            "_model_name": "LayoutModel",
            "_view_count": null,
            "_view_module": "@jupyter-widgets/base",
            "_view_module_version": "1.2.0",
            "_view_name": "LayoutView",
            "align_content": null,
            "align_items": null,
            "align_self": null,
            "border": null,
            "bottom": null,
            "display": null,
            "flex": null,
            "flex_flow": null,
            "grid_area": null,
            "grid_auto_columns": null,
            "grid_auto_flow": null,
            "grid_auto_rows": null,
            "grid_column": null,
            "grid_gap": null,
            "grid_row": null,
            "grid_template_areas": null,
            "grid_template_columns": null,
            "grid_template_rows": null,
            "height": null,
            "justify_content": null,
            "justify_items": null,
            "left": null,
            "margin": null,
            "max_height": null,
            "max_width": null,
            "min_height": null,
            "min_width": null,
            "object_fit": null,
            "object_position": null,
            "order": null,
            "overflow": null,
            "overflow_x": null,
            "overflow_y": null,
            "padding": null,
            "right": null,
            "top": null,
            "visibility": null,
            "width": null
          }
        },
        "97302e9a88534dc3bdd88ee204fa6559": {
          "model_module": "@jupyter-widgets/controls",
          "model_name": "ProgressStyleModel",
          "model_module_version": "1.5.0",
          "state": {
            "_model_module": "@jupyter-widgets/controls",
            "_model_module_version": "1.5.0",
            "_model_name": "ProgressStyleModel",
            "_view_count": null,
            "_view_module": "@jupyter-widgets/base",
            "_view_module_version": "1.2.0",
            "_view_name": "StyleView",
            "bar_color": null,
            "description_width": ""
          }
        },
        "aecc6b97f21e479ca15cd07c9f0f960d": {
          "model_module": "@jupyter-widgets/base",
          "model_name": "LayoutModel",
          "model_module_version": "1.2.0",
          "state": {
            "_model_module": "@jupyter-widgets/base",
            "_model_module_version": "1.2.0",
            "_model_name": "LayoutModel",
            "_view_count": null,
            "_view_module": "@jupyter-widgets/base",
            "_view_module_version": "1.2.0",
            "_view_name": "LayoutView",
            "align_content": null,
            "align_items": null,
            "align_self": null,
            "border": null,
            "bottom": null,
            "display": null,
            "flex": null,
            "flex_flow": null,
            "grid_area": null,
            "grid_auto_columns": null,
            "grid_auto_flow": null,
            "grid_auto_rows": null,
            "grid_column": null,
            "grid_gap": null,
            "grid_row": null,
            "grid_template_areas": null,
            "grid_template_columns": null,
            "grid_template_rows": null,
            "height": null,
            "justify_content": null,
            "justify_items": null,
            "left": null,
            "margin": null,
            "max_height": null,
            "max_width": null,
            "min_height": null,
            "min_width": null,
            "object_fit": null,
            "object_position": null,
            "order": null,
            "overflow": null,
            "overflow_x": null,
            "overflow_y": null,
            "padding": null,
            "right": null,
            "top": null,
            "visibility": null,
            "width": null
          }
        },
        "4fd0e9dbdbd8434386a5357b475994d4": {
          "model_module": "@jupyter-widgets/controls",
          "model_name": "DescriptionStyleModel",
          "model_module_version": "1.5.0",
          "state": {
            "_model_module": "@jupyter-widgets/controls",
            "_model_module_version": "1.5.0",
            "_model_name": "DescriptionStyleModel",
            "_view_count": null,
            "_view_module": "@jupyter-widgets/base",
            "_view_module_version": "1.2.0",
            "_view_name": "StyleView",
            "description_width": ""
          }
        },
        "3afe739c73d64b459f8db9d3e36fd292": {
          "model_module": "@jupyter-widgets/controls",
          "model_name": "HBoxModel",
          "model_module_version": "1.5.0",
          "state": {
            "_dom_classes": [],
            "_model_module": "@jupyter-widgets/controls",
            "_model_module_version": "1.5.0",
            "_model_name": "HBoxModel",
            "_view_count": null,
            "_view_module": "@jupyter-widgets/controls",
            "_view_module_version": "1.5.0",
            "_view_name": "HBoxView",
            "box_style": "",
            "children": [
              "IPY_MODEL_9d7c484e1c0746a29258c216e58bcdab",
              "IPY_MODEL_ad5215aabfbb4df5a83f3d85d1b78660",
              "IPY_MODEL_f425f34030874cb4a428eeb7563669f3"
            ],
            "layout": "IPY_MODEL_d8dc3d17cabf416cbf8d941aaa3dc092"
          }
        },
        "9d7c484e1c0746a29258c216e58bcdab": {
          "model_module": "@jupyter-widgets/controls",
          "model_name": "HTMLModel",
          "model_module_version": "1.5.0",
          "state": {
            "_dom_classes": [],
            "_model_module": "@jupyter-widgets/controls",
            "_model_module_version": "1.5.0",
            "_model_name": "HTMLModel",
            "_view_count": null,
            "_view_module": "@jupyter-widgets/controls",
            "_view_module_version": "1.5.0",
            "_view_name": "HTMLView",
            "description": "",
            "description_tooltip": null,
            "layout": "IPY_MODEL_fbd49326c20e47958203460be2d2c2ec",
            "placeholder": "​",
            "style": "IPY_MODEL_f0b85efd9f85454e85ee95d0b6903f67",
            "value": "Downloading: 100%"
          }
        },
        "ad5215aabfbb4df5a83f3d85d1b78660": {
          "model_module": "@jupyter-widgets/controls",
          "model_name": "FloatProgressModel",
          "model_module_version": "1.5.0",
          "state": {
            "_dom_classes": [],
            "_model_module": "@jupyter-widgets/controls",
            "_model_module_version": "1.5.0",
            "_model_name": "FloatProgressModel",
            "_view_count": null,
            "_view_module": "@jupyter-widgets/controls",
            "_view_module_version": "1.5.0",
            "_view_name": "ProgressView",
            "bar_style": "success",
            "description": "",
            "description_tooltip": null,
            "layout": "IPY_MODEL_7cfdb7649a474778ab3b22c6bceeabf3",
            "max": 541826656,
            "min": 0,
            "orientation": "horizontal",
            "style": "IPY_MODEL_ecb9d3a9b7fa4498a23406de01ec5da2",
            "value": 541826656
          }
        },
        "f425f34030874cb4a428eeb7563669f3": {
          "model_module": "@jupyter-widgets/controls",
          "model_name": "HTMLModel",
          "model_module_version": "1.5.0",
          "state": {
            "_dom_classes": [],
            "_model_module": "@jupyter-widgets/controls",
            "_model_module_version": "1.5.0",
            "_model_name": "HTMLModel",
            "_view_count": null,
            "_view_module": "@jupyter-widgets/controls",
            "_view_module_version": "1.5.0",
            "_view_name": "HTMLView",
            "description": "",
            "description_tooltip": null,
            "layout": "IPY_MODEL_0268fca8c2a64226b33435d5dddf7026",
            "placeholder": "​",
            "style": "IPY_MODEL_daef6b4e0e0c448bae1fe1f10d1f95d9",
            "value": " 542M/542M [00:07&lt;00:00, 79.4MB/s]"
          }
        },
        "d8dc3d17cabf416cbf8d941aaa3dc092": {
          "model_module": "@jupyter-widgets/base",
          "model_name": "LayoutModel",
          "model_module_version": "1.2.0",
          "state": {
            "_model_module": "@jupyter-widgets/base",
            "_model_module_version": "1.2.0",
            "_model_name": "LayoutModel",
            "_view_count": null,
            "_view_module": "@jupyter-widgets/base",
            "_view_module_version": "1.2.0",
            "_view_name": "LayoutView",
            "align_content": null,
            "align_items": null,
            "align_self": null,
            "border": null,
            "bottom": null,
            "display": null,
            "flex": null,
            "flex_flow": null,
            "grid_area": null,
            "grid_auto_columns": null,
            "grid_auto_flow": null,
            "grid_auto_rows": null,
            "grid_column": null,
            "grid_gap": null,
            "grid_row": null,
            "grid_template_areas": null,
            "grid_template_columns": null,
            "grid_template_rows": null,
            "height": null,
            "justify_content": null,
            "justify_items": null,
            "left": null,
            "margin": null,
            "max_height": null,
            "max_width": null,
            "min_height": null,
            "min_width": null,
            "object_fit": null,
            "object_position": null,
            "order": null,
            "overflow": null,
            "overflow_x": null,
            "overflow_y": null,
            "padding": null,
            "right": null,
            "top": null,
            "visibility": null,
            "width": null
          }
        },
        "fbd49326c20e47958203460be2d2c2ec": {
          "model_module": "@jupyter-widgets/base",
          "model_name": "LayoutModel",
          "model_module_version": "1.2.0",
          "state": {
            "_model_module": "@jupyter-widgets/base",
            "_model_module_version": "1.2.0",
            "_model_name": "LayoutModel",
            "_view_count": null,
            "_view_module": "@jupyter-widgets/base",
            "_view_module_version": "1.2.0",
            "_view_name": "LayoutView",
            "align_content": null,
            "align_items": null,
            "align_self": null,
            "border": null,
            "bottom": null,
            "display": null,
            "flex": null,
            "flex_flow": null,
            "grid_area": null,
            "grid_auto_columns": null,
            "grid_auto_flow": null,
            "grid_auto_rows": null,
            "grid_column": null,
            "grid_gap": null,
            "grid_row": null,
            "grid_template_areas": null,
            "grid_template_columns": null,
            "grid_template_rows": null,
            "height": null,
            "justify_content": null,
            "justify_items": null,
            "left": null,
            "margin": null,
            "max_height": null,
            "max_width": null,
            "min_height": null,
            "min_width": null,
            "object_fit": null,
            "object_position": null,
            "order": null,
            "overflow": null,
            "overflow_x": null,
            "overflow_y": null,
            "padding": null,
            "right": null,
            "top": null,
            "visibility": null,
            "width": null
          }
        },
        "f0b85efd9f85454e85ee95d0b6903f67": {
          "model_module": "@jupyter-widgets/controls",
          "model_name": "DescriptionStyleModel",
          "model_module_version": "1.5.0",
          "state": {
            "_model_module": "@jupyter-widgets/controls",
            "_model_module_version": "1.5.0",
            "_model_name": "DescriptionStyleModel",
            "_view_count": null,
            "_view_module": "@jupyter-widgets/base",
            "_view_module_version": "1.2.0",
            "_view_name": "StyleView",
            "description_width": ""
          }
        },
        "7cfdb7649a474778ab3b22c6bceeabf3": {
          "model_module": "@jupyter-widgets/base",
          "model_name": "LayoutModel",
          "model_module_version": "1.2.0",
          "state": {
            "_model_module": "@jupyter-widgets/base",
            "_model_module_version": "1.2.0",
            "_model_name": "LayoutModel",
            "_view_count": null,
            "_view_module": "@jupyter-widgets/base",
            "_view_module_version": "1.2.0",
            "_view_name": "LayoutView",
            "align_content": null,
            "align_items": null,
            "align_self": null,
            "border": null,
            "bottom": null,
            "display": null,
            "flex": null,
            "flex_flow": null,
            "grid_area": null,
            "grid_auto_columns": null,
            "grid_auto_flow": null,
            "grid_auto_rows": null,
            "grid_column": null,
            "grid_gap": null,
            "grid_row": null,
            "grid_template_areas": null,
            "grid_template_columns": null,
            "grid_template_rows": null,
            "height": null,
            "justify_content": null,
            "justify_items": null,
            "left": null,
            "margin": null,
            "max_height": null,
            "max_width": null,
            "min_height": null,
            "min_width": null,
            "object_fit": null,
            "object_position": null,
            "order": null,
            "overflow": null,
            "overflow_x": null,
            "overflow_y": null,
            "padding": null,
            "right": null,
            "top": null,
            "visibility": null,
            "width": null
          }
        },
        "ecb9d3a9b7fa4498a23406de01ec5da2": {
          "model_module": "@jupyter-widgets/controls",
          "model_name": "ProgressStyleModel",
          "model_module_version": "1.5.0",
          "state": {
            "_model_module": "@jupyter-widgets/controls",
            "_model_module_version": "1.5.0",
            "_model_name": "ProgressStyleModel",
            "_view_count": null,
            "_view_module": "@jupyter-widgets/base",
            "_view_module_version": "1.2.0",
            "_view_name": "StyleView",
            "bar_color": null,
            "description_width": ""
          }
        },
        "0268fca8c2a64226b33435d5dddf7026": {
          "model_module": "@jupyter-widgets/base",
          "model_name": "LayoutModel",
          "model_module_version": "1.2.0",
          "state": {
            "_model_module": "@jupyter-widgets/base",
            "_model_module_version": "1.2.0",
            "_model_name": "LayoutModel",
            "_view_count": null,
            "_view_module": "@jupyter-widgets/base",
            "_view_module_version": "1.2.0",
            "_view_name": "LayoutView",
            "align_content": null,
            "align_items": null,
            "align_self": null,
            "border": null,
            "bottom": null,
            "display": null,
            "flex": null,
            "flex_flow": null,
            "grid_area": null,
            "grid_auto_columns": null,
            "grid_auto_flow": null,
            "grid_auto_rows": null,
            "grid_column": null,
            "grid_gap": null,
            "grid_row": null,
            "grid_template_areas": null,
            "grid_template_columns": null,
            "grid_template_rows": null,
            "height": null,
            "justify_content": null,
            "justify_items": null,
            "left": null,
            "margin": null,
            "max_height": null,
            "max_width": null,
            "min_height": null,
            "min_width": null,
            "object_fit": null,
            "object_position": null,
            "order": null,
            "overflow": null,
            "overflow_x": null,
            "overflow_y": null,
            "padding": null,
            "right": null,
            "top": null,
            "visibility": null,
            "width": null
          }
        },
        "daef6b4e0e0c448bae1fe1f10d1f95d9": {
          "model_module": "@jupyter-widgets/controls",
          "model_name": "DescriptionStyleModel",
          "model_module_version": "1.5.0",
          "state": {
            "_model_module": "@jupyter-widgets/controls",
            "_model_module_version": "1.5.0",
            "_model_name": "DescriptionStyleModel",
            "_view_count": null,
            "_view_module": "@jupyter-widgets/base",
            "_view_module_version": "1.2.0",
            "_view_name": "StyleView",
            "description_width": ""
          }
        }
      }
    }
  },
  "cells": [
    {
      "cell_type": "markdown",
      "metadata": {
        "id": "MOau5Fvgzvze"
      },
      "source": [
        "Из курса [Даниила Анастасьева](https://github.com/DanAnastasyev) и [DL School](https://www.dls.samcs.ru)"
      ]
    },
    {
      "cell_type": "markdown",
      "metadata": {
        "id": "u079fXhsY5YO"
      },
      "source": [
        "# General Conversation\n"
      ]
    },
    {
      "cell_type": "code",
      "metadata": {
        "id": "CWzvZOET9tBE",
        "colab": {
          "base_uri": "https://localhost:8080/"
        },
        "outputId": "00ac9424-370d-4aaf-a3c8-c06e3473f0aa"
      },
      "source": [
        "!pip install transformers"
      ],
      "execution_count": null,
      "outputs": [
        {
          "output_type": "stream",
          "name": "stdout",
          "text": [
            "Looking in indexes: https://pypi.org/simple, https://us-python.pkg.dev/colab-wheels/public/simple/\n",
            "Requirement already satisfied: transformers in /usr/local/lib/python3.8/dist-packages (4.25.1)\n",
            "Requirement already satisfied: requests in /usr/local/lib/python3.8/dist-packages (from transformers) (2.23.0)\n",
            "Requirement already satisfied: regex!=2019.12.17 in /usr/local/lib/python3.8/dist-packages (from transformers) (2022.6.2)\n",
            "Requirement already satisfied: filelock in /usr/local/lib/python3.8/dist-packages (from transformers) (3.8.0)\n",
            "Requirement already satisfied: tqdm>=4.27 in /usr/local/lib/python3.8/dist-packages (from transformers) (4.64.1)\n",
            "Requirement already satisfied: pyyaml>=5.1 in /usr/local/lib/python3.8/dist-packages (from transformers) (6.0)\n",
            "Requirement already satisfied: huggingface-hub<1.0,>=0.10.0 in /usr/local/lib/python3.8/dist-packages (from transformers) (0.11.1)\n",
            "Requirement already satisfied: numpy>=1.17 in /usr/local/lib/python3.8/dist-packages (from transformers) (1.21.6)\n",
            "Requirement already satisfied: tokenizers!=0.11.3,<0.14,>=0.11.1 in /usr/local/lib/python3.8/dist-packages (from transformers) (0.13.2)\n",
            "Requirement already satisfied: packaging>=20.0 in /usr/local/lib/python3.8/dist-packages (from transformers) (21.3)\n",
            "Requirement already satisfied: typing-extensions>=3.7.4.3 in /usr/local/lib/python3.8/dist-packages (from huggingface-hub<1.0,>=0.10.0->transformers) (4.4.0)\n",
            "Requirement already satisfied: pyparsing!=3.0.5,>=2.0.2 in /usr/local/lib/python3.8/dist-packages (from packaging>=20.0->transformers) (3.0.9)\n",
            "Requirement already satisfied: urllib3!=1.25.0,!=1.25.1,<1.26,>=1.21.1 in /usr/local/lib/python3.8/dist-packages (from requests->transformers) (1.24.3)\n",
            "Requirement already satisfied: certifi>=2017.4.17 in /usr/local/lib/python3.8/dist-packages (from requests->transformers) (2022.9.24)\n",
            "Requirement already satisfied: idna<3,>=2.5 in /usr/local/lib/python3.8/dist-packages (from requests->transformers) (2.10)\n",
            "Requirement already satisfied: chardet<4,>=3.0.2 in /usr/local/lib/python3.8/dist-packages (from requests->transformers) (3.0.4)\n"
          ]
        }
      ]
    },
    {
      "cell_type": "code",
      "source": [
        "from google.colab import drive\n",
        "drive.mount('/content/drive')"
      ],
      "metadata": {
        "colab": {
          "base_uri": "https://localhost:8080/"
        },
        "id": "nEYUAp4wKIr_",
        "outputId": "c55d34ce-bb84-49e6-9d58-ea52e54ed787"
      },
      "execution_count": 1,
      "outputs": [
        {
          "output_type": "stream",
          "name": "stdout",
          "text": [
            "Mounted at /content/drive\n"
          ]
        }
      ]
    },
    {
      "cell_type": "markdown",
      "metadata": {
        "id": "yF6jgOYGY4Oy"
      },
      "source": [
        "## Данные для русского\n",
        "\n",
        "* Toloka Persona Chat Rus: https://toloka.yandex.ru/datasets/\n",
        "* Диалоги из литературы: https://github.com/Koziev/NLP_Datasets/blob/master/Conversations/Data/dialogues.zip\n",
        "* Open Subtitles:http://opus.nlpl.eu/OpenSubtitles-v2018.php\n",
        "\n",
        "Будем работать с датасетом Толоки"
      ]
    },
    {
      "cell_type": "code",
      "metadata": {
        "id": "9IwOBZ4BrVkQ",
        "colab": {
          "base_uri": "https://localhost:8080/"
        },
        "outputId": "4bf44e3e-9c9e-4be4-d0dd-658356dc2487"
      },
      "source": [
        "!rm -f TlkPersonaChatRus.zip\n",
        "!rm -rf TlkPersonaChatRus\n",
        "!wget https://tlk.s3.yandex.net/dataset/TlkPersonaChatRus.zip\n",
        "!unzip TlkPersonaChatRus.zip\n",
        "!head -n 5 TlkPersonaChatRus/dialogues.tsv"
      ],
      "execution_count": null,
      "outputs": [
        {
          "output_type": "stream",
          "name": "stdout",
          "text": [
            "--2022-12-16 14:29:25--  https://tlk.s3.yandex.net/dataset/TlkPersonaChatRus.zip\n",
            "Resolving tlk.s3.yandex.net (tlk.s3.yandex.net)... 93.158.134.158, 2a02:6b8::2:158\n",
            "Connecting to tlk.s3.yandex.net (tlk.s3.yandex.net)|93.158.134.158|:443... connected.\n",
            "HTTP request sent, awaiting response... 200 OK\n",
            "Length: 6139432 (5.9M) [application/zip]\n",
            "Saving to: ‘TlkPersonaChatRus.zip’\n",
            "\n",
            "TlkPersonaChatRus.z 100%[===================>]   5.85M  10.4MB/s    in 0.6s    \n",
            "\n",
            "2022-12-16 14:29:26 (10.4 MB/s) - ‘TlkPersonaChatRus.zip’ saved [6139432/6139432]\n",
            "\n",
            "Archive:  TlkPersonaChatRus.zip\n",
            "   creating: TlkPersonaChatRus/\n",
            "  inflating: TlkPersonaChatRus/dialogues.tsv  \n",
            "  inflating: TlkPersonaChatRus/readme_TlkPersonaChatRus.txt  \n",
            "  inflating: TlkPersonaChatRus/profiles.tsv  \n",
            "persona_1_profile\tpersona_2_profile\tdialogue\n",
            "\"<span class=participant_1>У меня любимая работа.<br />Я уважаю людей.<br />У меня есть животное.<br />У меня хороший друг.<br />Я люблю кофе.<br /></span>\"\t\"<span class=participant_2>Ищу принца.<br />Веду активный образ жизни.<br />Люблю читать классику.<br />Выращиваю фиалки.<br />Люблю общение.<br /></span>\"\t\"<span class=participant_2>Пользователь 2: Привет) расскажи о себе</span><br /><span class=participant_1>Пользователь 1: Привет) под вкусный кофеек настроение поболтать появилось<br />)</span><br /><span class=participant_2>Пользователь 2: Что читаешь? Мне нравится классика</span><br /><span class=participant_2>Пользователь 2: Я тоже люблю пообщаться</span><br /><span class=participant_1>Пользователь 1: Люблю животных, просто обожаю, как и свою работу)</span><br /><span class=participant_1>Пользователь 1: Я фантастику люблю</span><br /><span class=participant_2>Пользователь 2: А я выращиваю фиалки</span><br /><span class=participant_2>Пользователь 2: И веду здоровый и активный образ жизни!</span><br /><span class=participant_1>Пользователь 1: Ух ты, интересно.</span><br /><span class=participant_2>Пользователь 2: Ты случайно не принц на белом коне? Я его очень жду<br />..</span><br /><span class=participant_1>Пользователь 1: А у меня из хобби каждую неделю тусить с моим лучшим<br />другом)</span><br />\"\n",
            "\"<span class=participant_1>Я работаю учителем<br />У меня есть собака<br />Я люблю петь<br />Я живу сама<br />Я люблю цветы<br /></span>\"\t\"<span class=participant_2>Я бизнесмен<br />У меня скоро свадьба<br />Меня любят только за деньги<br />Я не люблю людей<br />не люблю тупые опросы<br /></span>\"\t\"<span class=participant_1>Пользователь 1: Привет!</span><br /><span class=participant_2>Пользователь 2: Привет,Как жизнь?</span><br /><span class=participant_1>Пользователь 1: Отлично) Солнышко светит, птички поют!</span><br /><span class=participant_2>Пользователь 2: Я вот сегодня понял, что меня тупо используют, всем<br />нужны от меня лишь деньги, ненавижу людей</span><br /><span class=participant_2>Пользователь 2: Чем занимаешься по жизни, я вот бизнесмен.</span><br /><span class=participant_1>Пользователь 1: А я вот учу детей, работаю с начальными классами</span><br /><span class=participant_1>Пользователь 1: Не все люди такие, как ты говоришь</span><br /><span class=participant_1>Пользователь 1: Помимо работы чем еще ты занимаешься?</span><br /><span class=participant_2>Пользователь 2: К свадьбе готовлюсь</span><br /><span class=participant_2>Пользователь 2: А ты?</span><br /><span class=participant_1>Пользователь 1: Вот видишь) значит, нашел такую женщину, которой не<br />нужны от тебя деньги</span><br /><span class=participant_2>Пользователь 2: Да я надеюсь на это,люблю ее</span><br />\"\n",
            "\"<span class=participant_1>Я купила дом<br />Я бегаю по утрам<br />Я работаю на работе<br />Я поеду в отпуск<br />Я люблю арбуз<br /></span>\"\t\"<span class=participant_2>Я пою в караоке<br />У меня есть супруга<br />Хорошо готовлю пасту<br />Люблю собак<br />Аллергия на кошек<br /></span>\"\t\"<span class=participant_1>Пользователь 1: Привет</span><br /><span class=participant_1>Пользователь 1: Как дела ?</span><br /><span class=participant_2>Пользователь 2: Добрый день!</span><br /><span class=participant_2>Пользователь 2: Хорошо,  чем увлекаетесь?</span><br /><span class=participant_1>Пользователь 1: Я бегаю по утрам а ты?</span><br /><span class=participant_1>Пользователь 1: Есть любимые вещи или еда ?</span><br /><span class=participant_1>Пользователь 1: Занят ?</span><br /><span class=participant_2>Пользователь 2: Я люблю петь в караоке)</span><br /><span class=participant_1>Пользователь 1: Круто )</span><br /><span class=participant_2>Пользователь 2: Люблю готовить пасту,  у меня классно получается!</span><br /><span class=participant_2>Пользователь 2: Любишь готовить?</span><br /><span class=participant_1>Пользователь 1: Это хорошо</span><br /><span class=participant_1>Пользователь 1: Я не эксперт</span><br /><span class=participant_1>Пользователь 1: Я люблю есть арбуз</span><br />\"\n",
            "\"<span class=participant_1>я врач и женат<br />у меня трое детей<br />не люблю свою работу<br />нравиться ездить на велосипеде<br />люблю пиво<br /></span>\"\t\"<span class=participant_2>Я мальчик<br />Я учусь в 6-ом классе<br />Хочу стать гонщиком<br />У меня есть сестра<br />Мечтаю о машине<br /></span>\"\t\"<span class=participant_2>Пользователь 2: Здравствуйте</span><br /><span class=participant_2>Пользователь 2: Я Леша</span><br /><span class=participant_1>Пользователь 1: Здравствуйте</span><br /><span class=participant_1>Пользователь 1: Я Егор</span><br /><span class=participant_2>Пользователь 2: Я учусь в 6 классе</span><br /><span class=participant_1>Пользователь 1: А мне 30 и я уже работаю</span><br /><span class=participant_2>Пользователь 2: А я тоже хочу. На машину скопить.</span><br /><span class=participant_1>Пользователь 1: Правда мне не нравится моя работа</span><br /><span class=participant_2>Пользователь 2: Почему?</span><br /><span class=participant_1>Пользователь 1: Мало платят</span><br /><span class=participant_1>Пользователь 1: На семью не хватает</span><br /><span class=participant_1>Пользователь 1: Жена и трое детей</span><br /><span class=participant_2>Пользователь 2: А... а я на машину...</span><br /><span class=participant_2>Пользователь 2: Ого</span><br />\"\n"
          ]
        }
      ]
    },
    {
      "cell_type": "markdown",
      "metadata": {
        "id": "FfZIA6qpeM05"
      },
      "source": [
        "Парсим HTML, схлопываем подряд идущие реплики одного человека, убираем пометки о номере пользователя"
      ]
    },
    {
      "cell_type": "code",
      "metadata": {
        "id": "OmDpI-YfruVk"
      },
      "source": [
        "import csv\n",
        "import copy\n",
        "from html.parser import HTMLParser\n",
        "\n",
        "class DialogueParser(HTMLParser):\n",
        "    def __init__(self):\n",
        "        HTMLParser.__init__(self)\n",
        "        self.lines = []\n",
        "        self.current_line = \"\"\n",
        "        self.is_line = False\n",
        "\n",
        "    def handle_starttag(self, tag, attrs):\n",
        "        if tag == \"span\":\n",
        "            self.is_line = True\n",
        "\n",
        "    def handle_endtag(self, tag):\n",
        "        if tag == \"span\":\n",
        "            self.lines.append(self.current_line)\n",
        "            self.is_line = False\n",
        "            self.current_line = \"\"\n",
        "\n",
        "    def handle_data(self, data):\n",
        "        if self.is_line:\n",
        "            self.current_line += data\n",
        "    \n",
        "    def pop_dialogue(self):\n",
        "        dialogue = copy.copy(self.lines)\n",
        "        self.lines = []\n",
        "        return dialogue\n",
        "\n",
        "\n",
        "dialogues = []\n",
        "parser = DialogueParser()\n",
        "with open(\"TlkPersonaChatRus/dialogues.tsv\", \"r\") as r:\n",
        "    next(r)\n",
        "    reader = csv.reader(r, delimiter='\\t')\n",
        "    for row in reader:\n",
        "        dialogue = row[2]\n",
        "        dialogue = dialogue.replace(\"<br />\", \" \").replace(\"<br/>\", \" \")\n",
        "        parser.feed(dialogue)\n",
        "        dialogue = parser.pop_dialogue()\n",
        "        if not dialogue:\n",
        "            continue\n",
        "        user1_start = \"Пользователь 1: \"\n",
        "        user2_start = \"Пользователь 2: \"\n",
        "        for line in dialogue:\n",
        "            assert line.startswith(user1_start) or line.startswith(user2_start)\n",
        "\n",
        "        def get_user(line):\n",
        "            return 1 if line.startswith(user1_start) else 2\n",
        "        def clean_line(line):\n",
        "            return line.replace(user1_start, \"\").replace(user2_start, \"\").replace(\"\\n\", \" \").strip()\n",
        "\n",
        "        new_dialogue = []\n",
        "        current_user = get_user(dialogue[0])\n",
        "        current_line = clean_line(dialogue[0])\n",
        "        for line in dialogue[1:]:\n",
        "            user = get_user(line)\n",
        "            line = clean_line(line)\n",
        "            if current_user == user:\n",
        "                current_line += \" \" + line\n",
        "                continue\n",
        "            new_dialogue.append(current_line)\n",
        "            current_line = line\n",
        "            current_user = user\n",
        "        new_dialogue.append(current_line)\n",
        "        dialogues.append(new_dialogue)"
      ],
      "execution_count": null,
      "outputs": []
    },
    {
      "cell_type": "code",
      "source": [
        "len(dialogues)"
      ],
      "metadata": {
        "colab": {
          "base_uri": "https://localhost:8080/"
        },
        "id": "iv1gvZV1iE5W",
        "outputId": "8a4010b0-30d1-4419-eed4-17713dcea85a"
      },
      "execution_count": null,
      "outputs": [
        {
          "output_type": "execute_result",
          "data": {
            "text/plain": [
              "10013"
            ]
          },
          "metadata": {},
          "execution_count": 8
        }
      ]
    },
    {
      "cell_type": "code",
      "metadata": {
        "id": "GqwV4-tEwRRN",
        "colab": {
          "base_uri": "https://localhost:8080/"
        },
        "outputId": "0ade70f9-1b68-420d-edbb-f809fedd653e"
      },
      "source": [
        "dialogues[100]"
      ],
      "execution_count": null,
      "outputs": [
        {
          "output_type": "execute_result",
          "data": {
            "text/plain": [
              "['Привет, друг мой! Как дела, как жизнь? Знакомиться будем?',\n",
              " 'добрый вечер! конечно, будем, это легально )) как юрист заявляю вам как у вас дела?',\n",
              " 'Ого! Юрист! Наверное столичный?))) Да вот все супер! Наворачиваю блины с икрой, радуюсь жизни',\n",
              " 'есть такое) мой папа бизнесмен, а кто то же должен знать юридические тонкости. а кем ты работаешь? мммм блины! а ананасы любишь? я вот обожаю',\n",
              " 'Завидую белой завистью! А то я сам из провинции, пора бы тоже в столицу! Работа, кстати, у меня интересная .. я биолог .. правда в школе, с сорванцами эими этими* да, ананасы это круто !',\n",
              " 'учитель! как интересно :) в москве хорошо, любовь вокруг! приезжай',\n",
              " 'Да с радостью бы! да вот трех котов перевозить- жуть думаю не справлюсь',\n",
              " 'ого у меня тоже есть кошка! я верю в тебя, справишься ) будем ждать! а я побежал решать свои юридические вопросы) спокойной ночи',\n",
              " 'пойду тогда почитаю! пока !']"
            ]
          },
          "metadata": {},
          "execution_count": 9
        }
      ]
    },
    {
      "cell_type": "markdown",
      "metadata": {
        "id": "fs--X5vWbg4T"
      },
      "source": [
        "Делаем примеры, состоящие из контекста и ответа"
      ]
    },
    {
      "cell_type": "code",
      "metadata": {
        "id": "jRPH0kEewnl8"
      },
      "source": [
        "blocks = []\n",
        "max_context_length = 1\n",
        "max_answer_length = 100\n",
        "for dialogue in dialogues:\n",
        "    for i in range(1, len(dialogue)):\n",
        "        context = tuple(dialogue[max(0, i-max_context_length):i])\n",
        "        answer = dialogue[i]\n",
        "        blocks.append({\"context\": context, \"answer\": answer})\n",
        "blocks = [block for block in blocks if len(block[\"answer\"]) < max_answer_length]"
      ],
      "execution_count": null,
      "outputs": []
    },
    {
      "cell_type": "markdown",
      "metadata": {
        "id": "iAfTedPl-HOK"
      },
      "source": []
    },
    {
      "cell_type": "code",
      "metadata": {
        "id": "h0QHh7qSxs5H",
        "colab": {
          "base_uri": "https://localhost:8080/"
        },
        "outputId": "27c2397a-d930-459b-94c0-a7a9c566a04c"
      },
      "source": [
        "len(blocks)"
      ],
      "execution_count": null,
      "outputs": [
        {
          "output_type": "execute_result",
          "data": {
            "text/plain": [
              "138197"
            ]
          },
          "metadata": {},
          "execution_count": 11
        }
      ]
    },
    {
      "cell_type": "markdown",
      "metadata": {
        "id": "VxH5a-yJbzj9"
      },
      "source": [
        "Разбиваем на обучающую и тестовую выборки"
      ]
    },
    {
      "cell_type": "code",
      "metadata": {
        "id": "tT30jjYzkjH4"
      },
      "source": [
        "import random\n",
        "random.shuffle(blocks)\n",
        "test_part = 0.9\n",
        "border = int(len(blocks) * test_part)\n",
        "train_blocks = blocks[:border]\n",
        "test_blocks = blocks[border:]"
      ],
      "execution_count": null,
      "outputs": []
    },
    {
      "cell_type": "markdown",
      "metadata": {
        "id": "IS020Pyxb-kP"
      },
      "source": [
        "BatchIterator разбивает примеры на батчи"
      ]
    },
    {
      "cell_type": "code",
      "metadata": {
        "id": "qC6jKqXyjxU2"
      },
      "source": [
        "import random\n",
        "import math\n",
        "import torch\n",
        "import numpy as np\n",
        "\n",
        "\n",
        "class BatchIterator():\n",
        "    def __init__(self, blocks, batch_size, shuffle=True):\n",
        "        self.blocks = blocks\n",
        "        self.num_samples = len(blocks)\n",
        "        self.batch_size = batch_size\n",
        "        self.shuffle = shuffle\n",
        "        self.batches_count = int(math.ceil(len(blocks) / batch_size))\n",
        "        \n",
        "    def __len__(self):\n",
        "        return self.batches_count\n",
        "    \n",
        "    def __iter__(self):\n",
        "        indices = np.arange(self.num_samples)\n",
        "        if self.shuffle:\n",
        "            np.random.shuffle(indices)\n",
        "\n",
        "        for start in range(0, self.num_samples, self.batch_size):\n",
        "            end = min(start + self.batch_size, self.num_samples)\n",
        "            batch_indices = indices[start:end]\n",
        "            pivots = []\n",
        "            positives = []\n",
        "            for data_ind in batch_indices:\n",
        "                block = self.blocks[data_ind]\n",
        "                \n",
        "                pivots.append(block[\"context\"])\n",
        "                positives.append(block[\"answer\"])\n",
        "\n",
        "            yield {\n",
        "                'pivot_lines': pivots,\n",
        "                'positive_lines': positives\n",
        "            }"
      ],
      "execution_count": null,
      "outputs": []
    },
    {
      "cell_type": "markdown",
      "metadata": {
        "id": "P2jzf2YicKhQ"
      },
      "source": [
        "А дальше у нас есть 2 базовых варианта: ранжирующая и порождающая модели"
      ]
    },
    {
      "cell_type": "markdown",
      "metadata": {
        "id": "Gs16j-qbcD_9"
      },
      "source": [
        "## Ранжирующая модель\n",
        "\n",
        "Начнём с ранжирующей модели, она во многом проще в реализации. Нужно заранее составить большую базу ответов и просто выбирать наиболее подходящий к контексту каждый раз. \n",
        "\n",
        "![](https://habrastorage.org/web/c79/942/608/c79942608160404ab398033e97283c51.jpg)\n",
        "\n",
        "*From [Neural conversational models: как научить нейронную сеть светской беседе. Лекция в Яндексе](https://habr.com/ru/company/yandex/blog/333912/)*\n",
        "\n",
        "Сеть состоит из пары башен: левая кодирует контекст, правая - ответ. Задача - научиться считать близость между представлениями контекста и ответа.\n",
        "\n"
      ]
    },
    {
      "cell_type": "code",
      "metadata": {
        "id": "DW_KHdLcGZxs"
      },
      "source": [
        "import torch\n",
        "import torch.nn as nn"
      ],
      "execution_count": null,
      "outputs": []
    },
    {
      "cell_type": "code",
      "metadata": {
        "id": "wFs5STmZ-v1O"
      },
      "source": [
        "train_iter = BatchIterator(train_blocks, 8)\n",
        "test_iter = BatchIterator(test_blocks, 8)"
      ],
      "execution_count": null,
      "outputs": []
    },
    {
      "cell_type": "code",
      "metadata": {
        "id": "MQwGw4WOeCr9"
      },
      "source": [
        "for batch in train_iter:\n",
        "    break"
      ],
      "execution_count": null,
      "outputs": []
    },
    {
      "cell_type": "code",
      "metadata": {
        "id": "g-scw7_SeWm6",
        "colab": {
          "base_uri": "https://localhost:8080/"
        },
        "outputId": "3b838cc3-06ed-4421-95a5-1a73cb0e6392"
      },
      "source": [
        "batch['pivot_lines'][:3], batch['positive_lines'][:3]"
      ],
      "execution_count": null,
      "outputs": [
        {
          "output_type": "execute_result",
          "data": {
            "text/plain": [
              "([('Ой классно как) это очень замечательно',),\n",
              "  ('А порода какая?',),\n",
              "  ('Праге нет увы а чем вы любите заниматься в свободное время',)],\n",
              " ['Ага 🙈☺️',\n",
              "  'Сиамская',\n",
              "  'Люблю смотреть мультики и играть со своими тремя котами'])"
            ]
          },
          "metadata": {},
          "execution_count": 17
        }
      ]
    },
    {
      "cell_type": "markdown",
      "metadata": {
        "id": "zRC3Jrsgfh0f"
      },
      "source": [
        "### Triplet Loss\n",
        "\n",
        "Мы хотим не просто научить энкодер строить эмбеддинги для предложений. Мы хотим, чтобы притягивать векторы правильных ответов к вопросам и отталкивать неправильные. Для этого используют, например, *Triplet Loss*:\n",
        "\n",
        "$$ L = \\frac 1N \\underset {q, a^+, a^-} \\sum max(0, \\space \\delta - sim[V_q(q), V_a(a^+)] + sim[V_q(q), V_a(a^-)] ),$$\n",
        "\n",
        "где\n",
        "* $sim[a, b]$ функция похожести (например, dot product или cosine similarity)\n",
        "* $\\delta$ - гиперпараметр модели. Если $sim[a, b]$ линейно по $b$, то все $\\delta > 0$ эквиватентны.\n",
        "\n",
        "![img](https://raw.githubusercontent.com/yandexdataschool/nlp_course/master/resources/margin.png)"
      ]
    },
    {
      "cell_type": "markdown",
      "metadata": {
        "id": "swXGvQ0mfzgS"
      },
      "source": [
        "### Hard-negatives mining\n",
        "\n",
        "Берём в качестве отрицательного примера самый близкий из неправильных примеров в батче:\n",
        "$$a^-_{hard} = \\underset {a^-} {argmax} \\space sim[V_q(q), V_a(a^-)]$$\n",
        "\n",
        "Неправильные в данном случае - все, кроме правильного :)\n",
        "\n",
        "Реализуется это как-то так:\n",
        "* Батч состоит из правильных пар.\n",
        "* Для всех контекстов и всех ответов считаем эмбеддинги.\n",
        "* Положительные примеры у нас есть - осталось найти для каждого контекста наиболее похожие на него ответы, которые предназначались другим контекстам."
      ]
    },
    {
      "cell_type": "markdown",
      "source": [
        "### Задание 1. Реализовать функцию для кодирования предложений"
      ],
      "metadata": {
        "id": "96_3raMddKbO"
      }
    },
    {
      "cell_type": "markdown",
      "metadata": {
        "id": "cUMAMonPepbb"
      },
      "source": [
        "Будем получать векторные представления с помощью модели RuBERT https://huggingface.co/DeepPavlov/distilrubert-base-cased-conversational \n",
        "\n",
        "(Если не будет помещаться в памяти, в репозитории DeepPavlov можно взять small или tyni версии модели)\n",
        "\n",
        "Векторные представления последовательности можно получить двумя способами:\n",
        "* Усреднив векторные представления токенов\n",
        "* Получив векторное представление для [CLS] токена."
      ]
    },
    {
      "cell_type": "code",
      "metadata": {
        "id": "UUTQS-WnUkTG"
      },
      "source": [
        "from transformers import AutoModel, AutoTokenizer"
      ],
      "execution_count": null,
      "outputs": []
    },
    {
      "cell_type": "code",
      "metadata": {
        "id": "MH_9EEgg_-9J"
      },
      "source": [
        "DEVICE = torch.device('cuda')"
      ],
      "execution_count": null,
      "outputs": []
    },
    {
      "cell_type": "code",
      "metadata": {
        "id": "KYcCwM-AACbL",
        "colab": {
          "base_uri": "https://localhost:8080/",
          "height": 304,
          "referenced_widgets": [
            "87396f7f4d3d406f8bdbf15a99eeacd3",
            "a84d4a54cdab4b9e856586d58d254293",
            "d1ff0c9274444c8b9f066b153205000b",
            "70b3509f921b43f88066c9e862d12cb0",
            "84f325c2affb40daabbe65e4877db1d7",
            "31e6a69fed5d4ff4a5395f1e4afb0af9",
            "f2657dff4fc94def96fbb0893e4bcd8b",
            "ed089ce6829041eca1f7ae89de8f2bb8",
            "8972a87048e44203af499bcc0399f525",
            "b2e9f991f47b438c87eed8cee3a85514",
            "67f6bf3d22da4e3aa0983f6f4c3293b2",
            "4be47b3d45e94e2b9569ec973093d680",
            "fdbd472013b84323a5a637b2ecd3520d",
            "a2733a0526464cbe89c748c060db9cc6",
            "4ed20ea5f5c84138b9778718c3f29ce7",
            "04a3fe57ee9f4632a7f1dfea5037e69d",
            "6b729ee01fa741d09b8b6aaadd1c2b41",
            "3855aa86d28f4e12ab67532a65ed1af9",
            "7352e566b6d04957891426274bb67beb",
            "649bdcbfddef46c992ae9f619d2660d5",
            "84305f8edfad4edd96145ab91bf0ca84",
            "9a409ab6e31548b9a0674e30420f7d8b",
            "1da0a2b40a7c441b8de32484e7bb597b",
            "0d60be12fd8144f68e7aafbc9372b9b1",
            "3f9547e2306c46cfa010b8fb0adacc7f",
            "6a30cbd1fb5844cfa8291754aa2042a7",
            "595fe5168e164a82a856ef554dfc5f75",
            "ed83d67ddf35408b87736d92a99e84de",
            "f5c16d99ec3241beb2787325841f7ecd",
            "920662d9da174f7fa517e52a1d3279a0",
            "dd80d67571f347e8a38c736543127d01",
            "18dc3e71a6774f6bb55871ce3029e178",
            "6120c8dd05dd472ea3aaae47a21a3718",
            "fce1a3ac6cb44c08bb4e466f3ba2f6dc",
            "2ee69ef8d32a453dadfabd6c9b3c3c25",
            "ae50c215648c468c84c94c3ea3562ddd",
            "049e4b98a0154d0e8a8d8932635133e2",
            "4e40b7b7de5748c088a6f13823ecd0a5",
            "38e390d2889842378f67e6ecde33bac8",
            "d5461cce4c1a461fa8cf7f00ad9b7883",
            "39335cc52c394b958ed11cbeb6e343f1",
            "97302e9a88534dc3bdd88ee204fa6559",
            "aecc6b97f21e479ca15cd07c9f0f960d",
            "4fd0e9dbdbd8434386a5357b475994d4",
            "3afe739c73d64b459f8db9d3e36fd292",
            "9d7c484e1c0746a29258c216e58bcdab",
            "ad5215aabfbb4df5a83f3d85d1b78660",
            "f425f34030874cb4a428eeb7563669f3",
            "d8dc3d17cabf416cbf8d941aaa3dc092",
            "fbd49326c20e47958203460be2d2c2ec",
            "f0b85efd9f85454e85ee95d0b6903f67",
            "7cfdb7649a474778ab3b22c6bceeabf3",
            "ecb9d3a9b7fa4498a23406de01ec5da2",
            "0268fca8c2a64226b33435d5dddf7026",
            "daef6b4e0e0c448bae1fe1f10d1f95d9"
          ]
        },
        "outputId": "659ab2ef-7345-477f-d330-64425f135684"
      },
      "source": [
        "tokenizer = AutoTokenizer.from_pretrained('DeepPavlov/distilrubert-base-cased-conversational')\n",
        "bert_left_model = AutoModel.from_pretrained('DeepPavlov/distilrubert-base-cased-conversational').to(DEVICE)\n",
        "bert_right_model = AutoModel.from_pretrained('DeepPavlov/distilrubert-base-cased-conversational').to(DEVICE)"
      ],
      "execution_count": null,
      "outputs": [
        {
          "output_type": "display_data",
          "data": {
            "text/plain": [
              "Downloading:   0%|          | 0.00/24.0 [00:00<?, ?B/s]"
            ],
            "application/vnd.jupyter.widget-view+json": {
              "version_major": 2,
              "version_minor": 0,
              "model_id": "87396f7f4d3d406f8bdbf15a99eeacd3"
            }
          },
          "metadata": {}
        },
        {
          "output_type": "display_data",
          "data": {
            "text/plain": [
              "Downloading:   0%|          | 0.00/538 [00:00<?, ?B/s]"
            ],
            "application/vnd.jupyter.widget-view+json": {
              "version_major": 2,
              "version_minor": 0,
              "model_id": "4be47b3d45e94e2b9569ec973093d680"
            }
          },
          "metadata": {}
        },
        {
          "output_type": "display_data",
          "data": {
            "text/plain": [
              "Downloading:   0%|          | 0.00/1.40M [00:00<?, ?B/s]"
            ],
            "application/vnd.jupyter.widget-view+json": {
              "version_major": 2,
              "version_minor": 0,
              "model_id": "1da0a2b40a7c441b8de32484e7bb597b"
            }
          },
          "metadata": {}
        },
        {
          "output_type": "display_data",
          "data": {
            "text/plain": [
              "Downloading:   0%|          | 0.00/112 [00:00<?, ?B/s]"
            ],
            "application/vnd.jupyter.widget-view+json": {
              "version_major": 2,
              "version_minor": 0,
              "model_id": "fce1a3ac6cb44c08bb4e466f3ba2f6dc"
            }
          },
          "metadata": {}
        },
        {
          "output_type": "display_data",
          "data": {
            "text/plain": [
              "Downloading:   0%|          | 0.00/542M [00:00<?, ?B/s]"
            ],
            "application/vnd.jupyter.widget-view+json": {
              "version_major": 2,
              "version_minor": 0,
              "model_id": "3afe739c73d64b459f8db9d3e36fd292"
            }
          },
          "metadata": {}
        },
        {
          "output_type": "stream",
          "name": "stderr",
          "text": [
            "Some weights of the model checkpoint at DeepPavlov/distilrubert-base-cased-conversational were not used when initializing DistilBertModel: ['vocab_projector.bias', 'vocab_transform.weight', 'vocab_projector.weight', 'vocab_transform.bias', 'vocab_layer_norm.bias', 'vocab_layer_norm.weight']\n",
            "- This IS expected if you are initializing DistilBertModel from the checkpoint of a model trained on another task or with another architecture (e.g. initializing a BertForSequenceClassification model from a BertForPreTraining model).\n",
            "- This IS NOT expected if you are initializing DistilBertModel from the checkpoint of a model that you expect to be exactly identical (initializing a BertForSequenceClassification model from a BertForSequenceClassification model).\n",
            "Some weights of the model checkpoint at DeepPavlov/distilrubert-base-cased-conversational were not used when initializing DistilBertModel: ['vocab_projector.bias', 'vocab_transform.weight', 'vocab_projector.weight', 'vocab_transform.bias', 'vocab_layer_norm.bias', 'vocab_layer_norm.weight']\n",
            "- This IS expected if you are initializing DistilBertModel from the checkpoint of a model trained on another task or with another architecture (e.g. initializing a BertForSequenceClassification model from a BertForPreTraining model).\n",
            "- This IS NOT expected if you are initializing DistilBertModel from the checkpoint of a model that you expect to be exactly identical (initializing a BertForSequenceClassification model from a BertForSequenceClassification model).\n"
          ]
        }
      ]
    },
    {
      "cell_type": "code",
      "metadata": {
        "id": "Plz79aRhBIjP"
      },
      "source": [
        "def get_embedding(model, tokenizer, sentences):\n",
        "  encodings = tokenizer.batch_encode_plus(sentences, padding=True, return_tensors='pt').to(DEVICE)\n",
        "  model_states = model(**encodings)\n",
        "  sentence_embeddings = torch.mean(model_states.last_hidden_state, 1)\n",
        "  return sentence_embeddings"
      ],
      "execution_count": null,
      "outputs": []
    },
    {
      "cell_type": "code",
      "metadata": {
        "id": "bCnx9YZzEOP4"
      },
      "source": [
        "class DSSMTripletLoss(nn.Module):\n",
        "    def __init__(self, left_model, right_model, tokenizer, embedding_dim=300, hidden_dim=300, margin=0.1):\n",
        "        super().__init__()\n",
        "\n",
        "        self.left_model = left_model\n",
        "        self.right_model = right_model\n",
        "        self.tokenizer = tokenizer\n",
        "\n",
        "        self.similarity = nn.CosineSimilarity(dim=1)\n",
        "        self.margin = margin\n",
        "\n",
        "    def apply(self, pivot_lines, positive_lines, hard_negatives_part=0.0):\n",
        "        pivots = get_embedding(self.left_model, self.tokenizer, pivot_lines,)\n",
        "        positives = get_embedding(self.right_model, self.tokenizer, positive_lines,)\n",
        "\n",
        "        batch_size = pivots.size(0)\n",
        "        shift = random.randint(1, max(batch_size - 1, 1))\n",
        "\n",
        "        negative_indices = torch.LongTensor([(i + shift) % batch_size for i in range(batch_size)])\n",
        "        negatives = positives[negative_indices]\n",
        "\n",
        "        return pivots, positives, negatives\n",
        "    \n",
        "    def calc_recall_at_1(self, pivots, positives, negatives):\n",
        "        batch_size = pivots.size(0)\n",
        "\n",
        "        scores = pivots.matmul(positives.transpose(0, 1))\n",
        "        predicted_indices = torch.argmax(scores, dim=1)\n",
        "\n",
        "        true_indices = torch.linspace(0, batch_size-1, steps=batch_size)\n",
        "        correct_count = torch.sum(predicted_indices.cpu() == true_indices).item()\n",
        "        return correct_count\n",
        "\n",
        "    def forward(self, pivots, positives, negatives):\n",
        "\n",
        "        distance = -self.similarity(pivots, positives) + self.similarity(pivots, negatives) + self.margin\n",
        "        loss = torch.mean(torch.max(distance, torch.zeros_like(distance)))\n",
        "\n",
        "        return loss\n",
        "    \n",
        "    def left_apply(self, lines):\n",
        "        return get_embedding(self.left_model, self.tokenizer, lines,)\n",
        "  \n",
        "    def right_apply(self, lines):\n",
        "        return get_embedding(self.right_model, self.tokenizer, lines,)"
      ],
      "execution_count": null,
      "outputs": []
    },
    {
      "cell_type": "code",
      "metadata": {
        "id": "qr4D0LiLjM-I"
      },
      "source": [
        "class ModelTrainer():\n",
        "    def __init__(self, model, optimizer):\n",
        "        self.model = model\n",
        "        self.optimizer = optimizer\n",
        "        \n",
        "    def on_epoch_begin(self, is_train, name, batches_count):\n",
        "        self.epoch_loss = 0\n",
        "        self.correct_count = 0\n",
        "        self.total_count = 0\n",
        "        self.is_train = is_train\n",
        "        self.name = name\n",
        "        self.batches_count = batches_count\n",
        "        self.model.train(is_train)\n",
        "        \n",
        "    def on_epoch_end(self):\n",
        "        return '{:>5s} Loss = {:.5f}, Recall@1 = {:.2%}'.format(\n",
        "            self.name, self.epoch_loss / self.batches_count, self.correct_count / self.total_count\n",
        "        )\n",
        "        \n",
        "    def on_batch(self, batch):\n",
        "        pivot_lines = batch['pivot_lines']\n",
        "        positive_lines = batch['positive_lines']\n",
        "        pivot_lines = [\" \".join(context) for context in pivot_lines]\n",
        "        #loss\n",
        "        pivots, positives, negatives = self.model.apply(pivot_lines, positive_lines)\n",
        "        loss = self.model(pivots, positives, negatives)\n",
        "        #predicts\n",
        "        self.correct_count += self.model.calc_recall_at_1(pivots, positives, negatives)\n",
        "        self.total_count += len(pivot_lines)\n",
        "        self.epoch_loss += loss.item()\n",
        "        \n",
        "        if self.is_train:\n",
        "            self.optimizer.zero_grad()\n",
        "            loss.backward()\n",
        "            nn.utils.clip_grad_norm_(self.model.parameters(), 1.)\n",
        "            self.optimizer.step()\n",
        "\n",
        "        return '{:>5s} Loss = {:.5f}, Recall@1 = {:.2%}'.format(\n",
        "            self.name, loss.item(), self.correct_count / self.total_count\n",
        "        )"
      ],
      "execution_count": null,
      "outputs": []
    },
    {
      "cell_type": "code",
      "metadata": {
        "id": "s-DS0q1PjRED"
      },
      "source": [
        "import math\n",
        "from tqdm import tqdm\n",
        "tqdm.get_lock().locks = []\n",
        "\n",
        "\n",
        "def do_epoch(trainer, data_iter, is_train, name=None):\n",
        "    trainer.on_epoch_begin(is_train, name, batches_count=len(data_iter))\n",
        "    \n",
        "    with torch.autograd.set_grad_enabled(is_train):\n",
        "        with tqdm(total=len(data_iter)) as progress_bar:\n",
        "            for i, batch in enumerate(data_iter):\n",
        "                batch_progress = trainer.on_batch(batch)\n",
        "\n",
        "                progress_bar.update()\n",
        "                progress_bar.set_description(batch_progress)\n",
        "                \n",
        "            epoch_progress = trainer.on_epoch_end()\n",
        "            progress_bar.set_description(epoch_progress)\n",
        "            progress_bar.refresh()\n",
        "\n",
        "            \n",
        "def fit(trainer, train_iter, epochs_count=1, val_iter=None):\n",
        "    best_val_loss = None\n",
        "    for epoch in range(epochs_count):\n",
        "        name_prefix = '[{} / {}] '.format(epoch + 1, epochs_count)\n",
        "        do_epoch(trainer, train_iter, is_train=True, name=name_prefix + 'Train:')\n",
        "        \n",
        "        if val_iter is not None:\n",
        "            do_epoch(trainer, val_iter, is_train=False, name=name_prefix + '  Val:')"
      ],
      "execution_count": null,
      "outputs": []
    },
    {
      "cell_type": "code",
      "metadata": {
        "id": "Nmake6ysdrHU"
      },
      "source": [
        "import torch\n",
        "import torch.nn as nn\n",
        "import torch.optim as optim"
      ],
      "execution_count": null,
      "outputs": []
    },
    {
      "cell_type": "code",
      "metadata": {
        "id": "kaOaSx9RjjsX"
      },
      "source": [
        "import torch.optim as optim\n",
        "model = DSSMTripletLoss(bert_left_model, bert_right_model, tokenizer).to(DEVICE)\n",
        "optimizer = optim.Adam(model.parameters(), lr=2e-5)\n",
        "trainer = ModelTrainer(model, optimizer)"
      ],
      "execution_count": null,
      "outputs": []
    },
    {
      "cell_type": "markdown",
      "source": [],
      "metadata": {
        "id": "GkE2XV-IcwsO"
      }
    },
    {
      "cell_type": "code",
      "metadata": {
        "id": "AzGoN6yiFoH9"
      },
      "source": [
        "fit(trainer, train_iter, epochs_count=2, val_iter=test_iter)"
      ],
      "execution_count": null,
      "outputs": []
    },
    {
      "cell_type": "code",
      "metadata": {
        "id": "X2KJspsqqPm9"
      },
      "source": [
        "torch.save(model.state_dict(), '/content/drive/MyDrive/left_right_model')"
      ],
      "execution_count": null,
      "outputs": []
    },
    {
      "cell_type": "code",
      "metadata": {
        "id": "fvTKBOaVqh0I",
        "colab": {
          "base_uri": "https://localhost:8080/"
        },
        "outputId": "63afb9cd-832b-4269-f4e1-0a3325720cab"
      },
      "source": [
        "model.load_state_dict(torch.load('/content/drive/MyDrive/left_right_model'))"
      ],
      "execution_count": null,
      "outputs": [
        {
          "output_type": "execute_result",
          "data": {
            "text/plain": [
              "<All keys matched successfully>"
            ]
          },
          "metadata": {},
          "execution_count": 29
        }
      ]
    },
    {
      "cell_type": "markdown",
      "source": [
        "### Задание 2. Реализовать обработку произвольных запросов\n",
        "* Получить векторные представления для всех примеров из датасета\n",
        "* В цикле принимать запросы пользователя и возвращать наиболее подходящий ответ"
      ],
      "metadata": {
        "id": "BFC_rbVieLOC"
      }
    },
    {
      "cell_type": "code",
      "metadata": {
        "colab": {
          "base_uri": "https://localhost:8080/"
        },
        "id": "fNyg7Sl8qpQ-",
        "outputId": "29f855d7-a1eb-428c-df9f-1376085fe323"
      },
      "source": [
        "all_iter = BatchIterator(blocks, 16)\n",
        "all_emb = []\n",
        "answers = []\n",
        "\n",
        "for batch in tqdm(all_iter, total=len(all_iter)):\n",
        "  pivot_lines = batch['pivot_lines']\n",
        "  pivot_lines = [' '.join(context) for context in pivot_lines]\n",
        "  positive_lines = batch['positive_lines']\n",
        "\n",
        "  curr = []\n",
        "  curr.extend(pivot_lines)\n",
        "  curr.extend(positive_lines)\n",
        "  answers.extend(curr)\n",
        "\n",
        "  with torch.no_grad():\n",
        "    embeddings = model.right_apply(curr)\n",
        "    all_emb.append(embeddings)"
      ],
      "execution_count": null,
      "outputs": [
        {
          "output_type": "stream",
          "name": "stderr",
          "text": [
            "100%|██████████| 8638/8638 [04:23<00:00, 32.78it/s]\n"
          ]
        }
      ]
    },
    {
      "cell_type": "code",
      "metadata": {
        "id": "U7b04VxxuQa-"
      },
      "source": [
        "answers_embeddings = torch.cat(all_emb)\n",
        "answers_embeddings = answers_embeddings.to(DEVICE)"
      ],
      "execution_count": null,
      "outputs": []
    },
    {
      "cell_type": "code",
      "source": [
        "tokenizer.vocab"
      ],
      "metadata": {
        "id": "JsO_kQ3BW8qw"
      },
      "execution_count": null,
      "outputs": []
    },
    {
      "cell_type": "code",
      "metadata": {
        "id": "0RAR3UBL1LOX",
        "colab": {
          "base_uri": "https://localhost:8080/",
          "height": 568
        },
        "outputId": "ce256469-e1ee-424f-861d-6b000179530c"
      },
      "source": [
        "import torch.nn.functional as F\n",
        "\n",
        "similarity = nn.CosineSimilarity(dim=1)\n",
        "conversation = []\n",
        "\n",
        "while True:\n",
        "    sentence = input()\n",
        "    \n",
        "    embeddings = model.left_apply([sentence])\n",
        "    sim = similarity(embeddings, answers_embeddings)\n",
        "    answer_sentence = answers[torch.argmax(sim)]\n",
        "\n",
        "    conversation.extend([sentence, answer_sentence])\n",
        "    print(answer_sentence)"
      ],
      "execution_count": null,
      "outputs": [
        {
          "output_type": "stream",
          "name": "stdout",
          "text": [
            "Привет, как дела?\n",
            "Не плохо, но я скучаю по маме, я люблю её. Как у тебя дела?\n",
            "Хорошо\n",
            "Чем ты занимаешься? Помимо работы\n",
            "Учусь\n",
            "Где учишься и на кого ?\n",
            "на хирурга\n",
            "Круто, хорошие врачи сейчас на вес золота\n",
            "Привет, как дела?\n",
            "Не плохо, но я скучаю по маме, я люблю её. Как у тебя дела?\n"
          ]
        },
        {
          "output_type": "error",
          "ename": "KeyboardInterrupt",
          "evalue": "ignored",
          "traceback": [
            "\u001b[0;31m---------------------------------------------------------------------------\u001b[0m",
            "\u001b[0;31mKeyboardInterrupt\u001b[0m                         Traceback (most recent call last)",
            "\u001b[0;32m<ipython-input-34-69a4a92a2e22>\u001b[0m in \u001b[0;36m<module>\u001b[0;34m\u001b[0m\n\u001b[1;32m      5\u001b[0m \u001b[0;34m\u001b[0m\u001b[0m\n\u001b[1;32m      6\u001b[0m \u001b[0;32mwhile\u001b[0m \u001b[0;32mTrue\u001b[0m\u001b[0;34m:\u001b[0m\u001b[0;34m\u001b[0m\u001b[0;34m\u001b[0m\u001b[0m\n\u001b[0;32m----> 7\u001b[0;31m     \u001b[0msentence\u001b[0m \u001b[0;34m=\u001b[0m \u001b[0minput\u001b[0m\u001b[0;34m(\u001b[0m\u001b[0;34m)\u001b[0m\u001b[0;34m\u001b[0m\u001b[0;34m\u001b[0m\u001b[0m\n\u001b[0m\u001b[1;32m      8\u001b[0m \u001b[0;34m\u001b[0m\u001b[0m\n\u001b[1;32m      9\u001b[0m     \u001b[0membeddings\u001b[0m \u001b[0;34m=\u001b[0m \u001b[0mmodel\u001b[0m\u001b[0;34m.\u001b[0m\u001b[0mleft_apply\u001b[0m\u001b[0;34m(\u001b[0m\u001b[0;34m[\u001b[0m\u001b[0msentence\u001b[0m\u001b[0;34m]\u001b[0m\u001b[0;34m)\u001b[0m\u001b[0;34m\u001b[0m\u001b[0;34m\u001b[0m\u001b[0m\n",
            "\u001b[0;32m/usr/local/lib/python3.8/dist-packages/ipykernel/kernelbase.py\u001b[0m in \u001b[0;36mraw_input\u001b[0;34m(self, prompt)\u001b[0m\n\u001b[1;32m    858\u001b[0m                 \u001b[0;34m\"raw_input was called, but this frontend does not support input requests.\"\u001b[0m\u001b[0;34m\u001b[0m\u001b[0;34m\u001b[0m\u001b[0m\n\u001b[1;32m    859\u001b[0m             )\n\u001b[0;32m--> 860\u001b[0;31m         return self._input_request(str(prompt),\n\u001b[0m\u001b[1;32m    861\u001b[0m             \u001b[0mself\u001b[0m\u001b[0;34m.\u001b[0m\u001b[0m_parent_ident\u001b[0m\u001b[0;34m,\u001b[0m\u001b[0;34m\u001b[0m\u001b[0;34m\u001b[0m\u001b[0m\n\u001b[1;32m    862\u001b[0m             \u001b[0mself\u001b[0m\u001b[0;34m.\u001b[0m\u001b[0m_parent_header\u001b[0m\u001b[0;34m,\u001b[0m\u001b[0;34m\u001b[0m\u001b[0;34m\u001b[0m\u001b[0m\n",
            "\u001b[0;32m/usr/local/lib/python3.8/dist-packages/ipykernel/kernelbase.py\u001b[0m in \u001b[0;36m_input_request\u001b[0;34m(self, prompt, ident, parent, password)\u001b[0m\n\u001b[1;32m    902\u001b[0m             \u001b[0;32mexcept\u001b[0m \u001b[0mKeyboardInterrupt\u001b[0m\u001b[0;34m:\u001b[0m\u001b[0;34m\u001b[0m\u001b[0;34m\u001b[0m\u001b[0m\n\u001b[1;32m    903\u001b[0m                 \u001b[0;31m# re-raise KeyboardInterrupt, to truncate traceback\u001b[0m\u001b[0;34m\u001b[0m\u001b[0;34m\u001b[0m\u001b[0;34m\u001b[0m\u001b[0m\n\u001b[0;32m--> 904\u001b[0;31m                 \u001b[0;32mraise\u001b[0m \u001b[0mKeyboardInterrupt\u001b[0m\u001b[0;34m(\u001b[0m\u001b[0;34m\"Interrupted by user\"\u001b[0m\u001b[0;34m)\u001b[0m \u001b[0;32mfrom\u001b[0m \u001b[0;32mNone\u001b[0m\u001b[0;34m\u001b[0m\u001b[0;34m\u001b[0m\u001b[0m\n\u001b[0m\u001b[1;32m    905\u001b[0m             \u001b[0;32mexcept\u001b[0m \u001b[0mException\u001b[0m \u001b[0;32mas\u001b[0m \u001b[0me\u001b[0m\u001b[0;34m:\u001b[0m\u001b[0;34m\u001b[0m\u001b[0;34m\u001b[0m\u001b[0m\n\u001b[1;32m    906\u001b[0m                 \u001b[0mself\u001b[0m\u001b[0;34m.\u001b[0m\u001b[0mlog\u001b[0m\u001b[0;34m.\u001b[0m\u001b[0mwarning\u001b[0m\u001b[0;34m(\u001b[0m\u001b[0;34m\"Invalid Message:\"\u001b[0m\u001b[0;34m,\u001b[0m \u001b[0mexc_info\u001b[0m\u001b[0;34m=\u001b[0m\u001b[0;32mTrue\u001b[0m\u001b[0;34m)\u001b[0m\u001b[0;34m\u001b[0m\u001b[0;34m\u001b[0m\u001b[0m\n",
            "\u001b[0;31mKeyboardInterrupt\u001b[0m: Interrupted by user"
          ]
        }
      ]
    },
    {
      "cell_type": "code",
      "source": [
        "conversation\n",
        "\n",
        "# Привет, как дела?\n",
        "# Хорошо.как твои?\n",
        "# Отлично, как тебя зовут?\n",
        "# Артем А тебя?\n",
        "# Меня зову Коля, чем занимаешься?\n",
        "# Приятно познакомиться Чем увлекаешься? Я например работаю в кафе, а ты?\n",
        "# Я сейчас учусь в университете. Как тебе погода за окном?\n",
        "# А я закончила ин. яз, хорошо владею несколькими языками ))) Взаимно!\n",
        "# У тебя есть домашние животные?\n",
        "# Пока нет, а у тебя?\n",
        "# Тоже нет, но я бы хотел завести собаку.\n",
        "# Аааа... а родители где?\n",
        "# Далеко, в другом городе. А ты с родителями живёшь?\n",
        "# Да, а ты? Я живу в Москве, а ты откуда?\n",
        "# Я живу один. Сам я из Санкт-Петербурга.\n",
        "# ООО) интересно. А я из Ватикана? Знаете где это?\n",
        "# Нет, не бывал там)\n",
        "# А ну Ок)"
      ],
      "metadata": {
        "colab": {
          "base_uri": "https://localhost:8080/"
        },
        "id": "Mds39bNjSQ9D",
        "outputId": "e5d147ee-60fc-4cd9-d244-f3bcd8cea463"
      },
      "execution_count": null,
      "outputs": [
        {
          "output_type": "execute_result",
          "data": {
            "text/plain": [
              "['Привет, как дела?',\n",
              " 'Не плохо, но я скучаю по маме, я люблю её. Как у тебя дела?',\n",
              " 'Отлично, как тебя зовут?',\n",
              " 'Александр А тебя как зовут?',\n",
              " 'Меня зову Коля, чем занимаешься?',\n",
              " 'Общаюсь с тобой и смотрю сериал. Обожаю смотреть сериалы ! А ты чем занимаешься ?))',\n",
              " 'Я сейчас учусь в университете. Как тебе погода за окном?',\n",
              " 'Да погода не очень, я люблю в школе сидеть Ты школьник или в универе уже?',\n",
              " 'Уже в универе',\n",
              " 'На кого училась?',\n",
              " 'Хирург',\n",
              " 'Ого вот здорово !)хирург ?',\n",
              " 'Он самый',\n",
              " 'Он не настоящий какой то',\n",
              " 'Почему ты так думаешь?',\n",
              " 'Наверное потому что у меня нет друзей и я одинока',\n",
              " 'Хочешь я буду твоим другом?',\n",
              " 'Очень хотелось бы, но не могу - учёба']"
            ]
          },
          "metadata": {},
          "execution_count": 35
        }
      ]
    }
  ]
}